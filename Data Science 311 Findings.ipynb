{
 "cells": [
  {
   "cell_type": "markdown",
   "metadata": {},
   "source": [
    "# Board Game Behavior: An Analysis of Demographics and Gameplay Preferences"
   ]
  },
  {
   "cell_type": "markdown",
   "metadata": {},
   "source": [
    "## Documentation\n",
    "\n",
    "[Initial Project Proposal](write-ups/initial_project_proposal_revised.md) (11/8/23)\n",
    "\n",
    "[Milestone One](write-ups/milestone_one_delieverable/milestone_one.md) (11/18/23)"
   ]
  },
  {
   "cell_type": "markdown",
   "metadata": {},
   "source": [
    "## Data Processing and Modeling"
   ]
  },
  {
   "cell_type": "code",
   "execution_count": 1,
   "metadata": {},
   "outputs": [
    {
     "name": "stdout",
     "output_type": "stream",
     "text": [
      "Requirement already satisfied: pandas in c:\\users\\seven\\appdata\\local\\programs\\python\\python311\\lib\\site-packages (2.1.1)\n",
      "Requirement already satisfied: numpy>=1.23.2 in c:\\users\\seven\\appdata\\local\\programs\\python\\python311\\lib\\site-packages (from pandas) (1.26.0)\n",
      "Requirement already satisfied: python-dateutil>=2.8.2 in c:\\users\\seven\\appdata\\local\\programs\\python\\python311\\lib\\site-packages (from pandas) (2.8.2)\n",
      "Requirement already satisfied: pytz>=2020.1 in c:\\users\\seven\\appdata\\local\\programs\\python\\python311\\lib\\site-packages (from pandas) (2023.3.post1)\n",
      "Requirement already satisfied: tzdata>=2022.1 in c:\\users\\seven\\appdata\\local\\programs\\python\\python311\\lib\\site-packages (from pandas) (2023.3)\n",
      "Requirement already satisfied: six>=1.5 in c:\\users\\seven\\appdata\\local\\programs\\python\\python311\\lib\\site-packages (from python-dateutil>=2.8.2->pandas) (1.16.0)\n",
      "Requirement already satisfied: openpyxl in c:\\users\\seven\\appdata\\local\\programs\\python\\python311\\lib\\site-packages (3.1.2)\n",
      "Requirement already satisfied: et-xmlfile in c:\\users\\seven\\appdata\\local\\programs\\python\\python311\\lib\\site-packages (from openpyxl) (1.1.0)\n",
      "Requirement already satisfied: seaborn in c:\\users\\seven\\appdata\\local\\programs\\python\\python311\\lib\\site-packages (0.13.0)\n",
      "Requirement already satisfied: numpy!=1.24.0,>=1.20 in c:\\users\\seven\\appdata\\local\\programs\\python\\python311\\lib\\site-packages (from seaborn) (1.26.0)\n",
      "Requirement already satisfied: pandas>=1.2 in c:\\users\\seven\\appdata\\local\\programs\\python\\python311\\lib\\site-packages (from seaborn) (2.1.1)\n",
      "Requirement already satisfied: matplotlib!=3.6.1,>=3.3 in c:\\users\\seven\\appdata\\local\\programs\\python\\python311\\lib\\site-packages (from seaborn) (3.8.0)\n",
      "Requirement already satisfied: contourpy>=1.0.1 in c:\\users\\seven\\appdata\\local\\programs\\python\\python311\\lib\\site-packages (from matplotlib!=3.6.1,>=3.3->seaborn) (1.1.1)\n",
      "Requirement already satisfied: cycler>=0.10 in c:\\users\\seven\\appdata\\local\\programs\\python\\python311\\lib\\site-packages (from matplotlib!=3.6.1,>=3.3->seaborn) (0.12.0)\n",
      "Requirement already satisfied: fonttools>=4.22.0 in c:\\users\\seven\\appdata\\local\\programs\\python\\python311\\lib\\site-packages (from matplotlib!=3.6.1,>=3.3->seaborn) (4.42.1)\n",
      "Requirement already satisfied: kiwisolver>=1.0.1 in c:\\users\\seven\\appdata\\local\\programs\\python\\python311\\lib\\site-packages (from matplotlib!=3.6.1,>=3.3->seaborn) (1.4.5)\n",
      "Requirement already satisfied: packaging>=20.0 in c:\\users\\seven\\appdata\\local\\programs\\python\\python311\\lib\\site-packages (from matplotlib!=3.6.1,>=3.3->seaborn) (23.1)\n",
      "Requirement already satisfied: pillow>=6.2.0 in c:\\users\\seven\\appdata\\local\\programs\\python\\python311\\lib\\site-packages (from matplotlib!=3.6.1,>=3.3->seaborn) (10.0.1)\n",
      "Requirement already satisfied: pyparsing>=2.3.1 in c:\\users\\seven\\appdata\\local\\programs\\python\\python311\\lib\\site-packages (from matplotlib!=3.6.1,>=3.3->seaborn) (3.1.1)\n",
      "Requirement already satisfied: python-dateutil>=2.7 in c:\\users\\seven\\appdata\\local\\programs\\python\\python311\\lib\\site-packages (from matplotlib!=3.6.1,>=3.3->seaborn) (2.8.2)\n",
      "Requirement already satisfied: pytz>=2020.1 in c:\\users\\seven\\appdata\\local\\programs\\python\\python311\\lib\\site-packages (from pandas>=1.2->seaborn) (2023.3.post1)\n",
      "Requirement already satisfied: tzdata>=2022.1 in c:\\users\\seven\\appdata\\local\\programs\\python\\python311\\lib\\site-packages (from pandas>=1.2->seaborn) (2023.3)\n",
      "Requirement already satisfied: six>=1.5 in c:\\users\\seven\\appdata\\local\\programs\\python\\python311\\lib\\site-packages (from python-dateutil>=2.7->matplotlib!=3.6.1,>=3.3->seaborn) (1.16.0)\n"
     ]
    }
   ],
   "source": [
    "!python -m pip install pandas\n",
    "!python -m pip install openpyxl\n",
    "!python -m pip install seaborn"
   ]
  },
  {
   "cell_type": "markdown",
   "metadata": {},
   "source": [
    "### Data Cleaning"
   ]
  },
  {
   "cell_type": "code",
   "execution_count": 2,
   "metadata": {},
   "outputs": [
    {
     "name": "stdout",
     "output_type": "stream",
     "text": [
      "<class 'pandas.core.frame.DataFrame'>\n",
      "RangeIndex: 113 entries, 0 to 112\n",
      "Data columns (total 22 columns):\n",
      " #   Column                                                                                                                                               Non-Null Count  Dtype         \n",
      "---  ------                                                                                                                                               --------------  -----         \n",
      " 0   ID                                                                                                                                                   113 non-null    int64         \n",
      " 1   Start time                                                                                                                                           113 non-null    datetime64[ns]\n",
      " 2   Completion time                                                                                                                                      113 non-null    datetime64[ns]\n",
      " 3   Email                                                                                                                                                113 non-null    object        \n",
      " 4   Name                                                                                                                                                 113 non-null    object        \n",
      " 5   Last modified time                                                                                                                                   113 non-null    object        \n",
      " 6   I am a:                                                                                                                                              113 non-null    object        \n",
      " 7   What is your Gender Identity?                                                                                                                        113 non-null    object        \n",
      " 8   What is your Age?\n",
      "(this field may remain blank)                                                                                                      113 non-null    object        \n",
      " 9   What is your Race?                                                                                                                                   113 non-null    object        \n",
      " 10  What is your current Employment Status?                                                                                                              113 non-null    object        \n",
      " 11  Do you wear glasses or contact lenses for vision correction?                                                                                         113 non-null    object        \n",
      " 12  What best describes your current religious or spiritual beliefs, if any?\n",
      "                                                                            113 non-null    object        \n",
      " 13  What is your Area of Study or Major? \n",
      "(this field may remain blank)\n",
      "                                                                                 113 non-null    object        \n",
      " 14  Do you enjoy playing board games, card games, or similar tabletop games?                                                                             113 non-null    object        \n",
      " 15  How many board/card games do you own? \n",
      "(All non-roleplay table top games are included, i.e., chess, playing cards, Uno, Magic: The Gathering, etc.)  113 non-null    object        \n",
      " 16  About how frequently do you play board/card games?                                                                                                   113 non-null    object        \n",
      " 17  Select what best describes your engagement and style when it comes to board and card games?                                                          113 non-null    object        \n",
      " 18  I prefer games that include elements of:\n",
      "(select all that you prefer)                                                                                113 non-null    object        \n",
      " 19  List up to 15 board/card games that you enjoy playing. \n",
      "(abide by the format: \"Game 1\", \"Game 2\", \"Game 3\")\n",
      "(this field may remain blank)\n",
      "           113 non-null    object        \n",
      " 20  On a scale from 1 to 10, how much do you enjoy playing chess, with 1 being not enjoyable at all and 10 being extremely enjoyable?                    113 non-null    object        \n",
      " 21  Select your all genres of board/card games you enjoy.\n",
      "(if your preferred genre(s) is/are not listed, please list them in the \"other\" selection)      113 non-null    object        \n",
      "dtypes: datetime64[ns](2), int64(1), object(19)\n",
      "memory usage: 19.6+ KB\n"
     ]
    }
   ],
   "source": [
    "import pandas as pd\n",
    "\n",
    "raw_df = pd.read_excel(\"datasets/rawdata.xlsx\",keep_default_na=False)\n",
    "\n",
    "raw_df.info()"
   ]
  },
  {
   "cell_type": "markdown",
   "metadata": {},
   "source": [
    "##### Drop Metadata"
   ]
  },
  {
   "cell_type": "code",
   "execution_count": 3,
   "metadata": {},
   "outputs": [
    {
     "data": {
      "text/html": [
       "<div>\n",
       "<style scoped>\n",
       "    .dataframe tbody tr th:only-of-type {\n",
       "        vertical-align: middle;\n",
       "    }\n",
       "\n",
       "    .dataframe tbody tr th {\n",
       "        vertical-align: top;\n",
       "    }\n",
       "\n",
       "    .dataframe thead th {\n",
       "        text-align: right;\n",
       "    }\n",
       "</style>\n",
       "<table border=\"1\" class=\"dataframe\">\n",
       "  <thead>\n",
       "    <tr style=\"text-align: right;\">\n",
       "      <th></th>\n",
       "      <th>I am a:</th>\n",
       "      <th>What is your Gender Identity?</th>\n",
       "      <th>What is your Age?\\n(this field may remain blank)</th>\n",
       "      <th>What is your Race?</th>\n",
       "      <th>What is your current Employment Status?</th>\n",
       "      <th>Do you wear glasses or contact lenses for vision correction?</th>\n",
       "      <th>What best describes your current religious or spiritual beliefs, if any?\\n</th>\n",
       "      <th>What is your Area of Study or Major? \\n(this field may remain blank)\\n</th>\n",
       "      <th>Do you enjoy playing board games, card games, or similar tabletop games?</th>\n",
       "      <th>How many board/card games do you own? \\n(All non-roleplay table top games are included, i.e., chess, playing cards, Uno, Magic: The Gathering, etc.)</th>\n",
       "      <th>About how frequently do you play board/card games?</th>\n",
       "      <th>Select what best describes your engagement and style when it comes to board and card games?</th>\n",
       "      <th>I prefer games that include elements of:\\n(select all that you prefer)</th>\n",
       "      <th>List up to 15 board/card games that you enjoy playing. \\n(abide by the format: \"Game 1\", \"Game 2\", \"Game 3\")\\n(this field may remain blank)\\n</th>\n",
       "      <th>On a scale from 1 to 10, how much do you enjoy playing chess, with 1 being not enjoyable at all and 10 being extremely enjoyable?</th>\n",
       "      <th>Select your all genres of board/card games you enjoy.\\n(if your preferred genre(s) is/are not listed, please list them in the \"other\" selection)</th>\n",
       "    </tr>\n",
       "  </thead>\n",
       "  <tbody>\n",
       "  </tbody>\n",
       "</table>\n",
       "</div>"
      ],
      "text/plain": [
       "Empty DataFrame\n",
       "Columns: [I am a:, What is your Gender Identity?, What is your Age?\n",
       "(this field may remain blank), What is your Race?, What is your current Employment Status?, Do you wear glasses or contact lenses for vision correction?, What best describes your current religious or spiritual beliefs, if any?\n",
       ", What is your Area of Study or Major? \n",
       "(this field may remain blank)\n",
       ", Do you enjoy playing board games, card games, or similar tabletop games?, How many board/card games do you own? \n",
       "(All non-roleplay table top games are included, i.e., chess, playing cards, Uno, Magic: The Gathering, etc.), About how frequently do you play board/card games?, Select what best describes your engagement and style when it comes to board and card games? , I prefer games that include elements of:\n",
       "(select all that you prefer), List up to 15 board/card games that you enjoy playing. \n",
       "(abide by the format: \"Game 1\", \"Game 2\", \"Game 3\")\n",
       "(this field may remain blank)\n",
       ", On a scale from 1 to 10, how much do you enjoy playing chess, with 1 being not enjoyable at all and 10 being extremely enjoyable?, Select your all genres of board/card games you enjoy.\n",
       "(if your preferred genre(s) is/are not listed, please list them in the \"other\" selection)]\n",
       "Index: []"
      ]
     },
     "execution_count": 3,
     "metadata": {},
     "output_type": "execute_result"
    }
   ],
   "source": [
    "dropped_df = raw_df.drop(columns=[\"ID\",\"Start time\",\"Completion time\",\"Email\",\"Name\",\"Last modified time\"])\n",
    "\n",
    "dropped_df[:0]"
   ]
  },
  {
   "cell_type": "markdown",
   "metadata": {},
   "source": [
    "#### Rename Raw Fields from Question to Concise Description"
   ]
  },
  {
   "cell_type": "code",
   "execution_count": 4,
   "metadata": {},
   "outputs": [
    {
     "data": {
      "text/html": [
       "<div>\n",
       "<style scoped>\n",
       "    .dataframe tbody tr th:only-of-type {\n",
       "        vertical-align: middle;\n",
       "    }\n",
       "\n",
       "    .dataframe tbody tr th {\n",
       "        vertical-align: top;\n",
       "    }\n",
       "\n",
       "    .dataframe thead th {\n",
       "        text-align: right;\n",
       "    }\n",
       "</style>\n",
       "<table border=\"1\" class=\"dataframe\">\n",
       "  <thead>\n",
       "    <tr style=\"text-align: right;\">\n",
       "      <th></th>\n",
       "      <th>WWUStatus</th>\n",
       "      <th>Gender</th>\n",
       "      <th>Age</th>\n",
       "      <th>Race(s)</th>\n",
       "      <th>EmploymentStatus</th>\n",
       "      <th>Vision</th>\n",
       "      <th>Religiosity</th>\n",
       "      <th>AOS</th>\n",
       "      <th>EnjoysBoardGames</th>\n",
       "      <th>BoardGamesOwned</th>\n",
       "      <th>FrequencyOfPlay</th>\n",
       "      <th>Style</th>\n",
       "      <th>PreferredElements</th>\n",
       "      <th>EnjoyedBoardGames</th>\n",
       "      <th>ChessRating</th>\n",
       "      <th>EnjoyedGenres</th>\n",
       "    </tr>\n",
       "  </thead>\n",
       "  <tbody>\n",
       "  </tbody>\n",
       "</table>\n",
       "</div>"
      ],
      "text/plain": [
       "Empty DataFrame\n",
       "Columns: [WWUStatus, Gender, Age, Race(s), EmploymentStatus, Vision, Religiosity, AOS, EnjoysBoardGames, BoardGamesOwned, FrequencyOfPlay, Style, PreferredElements, EnjoyedBoardGames, ChessRating, EnjoyedGenres]\n",
       "Index: []"
      ]
     },
     "execution_count": 4,
     "metadata": {},
     "output_type": "execute_result"
    }
   ],
   "source": [
    "renamed_df = dropped_df.rename(columns={\n",
    "    \"I am a:\": \"WWUStatus\",\n",
    "    \"What is your Gender Identity?\": \"Gender\",\n",
    "    \"What is your Age?\\n(this field may remain blank)\": \"Age\",\n",
    "    \"What is your Race?\": \"Race(s)\",\n",
    "    \"What is your current Employment Status?\": \"EmploymentStatus\",\n",
    "    \"Do you wear glasses or contact lenses for vision correction?\": \"Vision\",\n",
    "    \"What best describes your current religious or spiritual beliefs, if any?\\n\": \"Religiosity\",\n",
    "    \"What is your Area of Study or Major? \\n(this field may remain blank)\\n\": \"AOS\",\n",
    "    \"Do you enjoy playing board games, card games, or similar tabletop games?\": \"EnjoysBoardGames\",\n",
    "    \"How many board/card games do you own? \\n(All non-roleplay table top games are included, i.e., chess, playing cards, Uno, Magic: The Gathering, etc.)\": \"BoardGamesOwned\",\n",
    "    \"About how frequently do you play board/card games?\": \"FrequencyOfPlay\",\n",
    "    \"Select what best describes your engagement and style when it comes to board and card games? \": \"Style\",\n",
    "    \"I prefer games that include elements of:\\n(select all that you prefer)\": \"PreferredElements\",\n",
    "    \"List up to 15 board/card games that you enjoy playing. \\n(abide by the format: \\\"Game 1\\\", \\\"Game 2\\\", \\\"Game 3\\\")\\n(this field may remain blank)\\n\": \"EnjoyedBoardGames\",\n",
    "    \"On a scale from 1 to 10, how much do you enjoy playing chess, with 1 being not enjoyable at all and 10 being extremely enjoyable?\": \"ChessRating\",\n",
    "    \"Select your all genres of board/card games you enjoy.\\n(if your preferred genre(s) is/are not listed, please list them in the \\\"other\\\" selection)\": \"EnjoyedGenres\"\n",
    "})\n",
    "\n",
    "renamed_df[:0]\n"
   ]
  },
  {
   "cell_type": "markdown",
   "metadata": {},
   "source": [
    "#### Multiselect Binary/Boolean Features"
   ]
  },
  {
   "cell_type": "markdown",
   "metadata": {},
   "source": [
    "##### Race(s)"
   ]
  },
  {
   "cell_type": "code",
   "execution_count": 5,
   "metadata": {},
   "outputs": [
    {
     "data": {
      "text/plain": [
       "Race(s)\n",
       "White;                                        83\n",
       "Hispanic or Latino;                            7\n",
       "Asian;                                         5\n",
       "White;Hispanic or Latino;                      3\n",
       "White;Asian;                                   2\n",
       "Asian;Hispanic or Latino;                      2\n",
       "White;Black or African American;               2\n",
       "Native American or American Indian;            1\n",
       "Prefer not to say;                             1\n",
       "White;Black or African American;Asian;         1\n",
       "Asian;White;                                   1\n",
       "Hispanic or Latino;White;                      1\n",
       "White;Native Hawaiian or Pacific Islander;     1\n",
       "Asian;Filipino;                                1\n",
       "Black or African American;White;               1\n",
       "Black or African American;White;Asian;         1\n",
       "Name: count, dtype: int64"
      ]
     },
     "execution_count": 5,
     "metadata": {},
     "output_type": "execute_result"
    }
   ],
   "source": [
    "renamed_df[\"Race(s)\"].value_counts()"
   ]
  },
  {
   "cell_type": "code",
   "execution_count": 6,
   "metadata": {},
   "outputs": [
    {
     "data": {
      "text/plain": [
       "{'',\n",
       " 'Asian',\n",
       " 'Black or African American',\n",
       " 'Filipino',\n",
       " 'Hispanic or Latino',\n",
       " 'Native American or American Indian',\n",
       " 'Native Hawaiian or Pacific Islander',\n",
       " 'Prefer not to say',\n",
       " 'White'}"
      ]
     },
     "execution_count": 6,
     "metadata": {},
     "output_type": "execute_result"
    }
   ],
   "source": [
    "raceClean_df = renamed_df.copy()\n",
    "\n",
    "unique_races = set()\n",
    "for elements in raceClean_df[\"Race(s)\"].dropna():\n",
    "    unique_races.update(elements.split(';'))\n",
    "\n",
    "unique_races"
   ]
  },
  {
   "cell_type": "code",
   "execution_count": 7,
   "metadata": {},
   "outputs": [],
   "source": [
    "# Create a new column for each unique element with binary values (0 or 1 or None)\n",
    "for element in unique_races:\n",
    "    raceClean_df[(element + \"IsRace\").replace(\" \", \"\")] = raceClean_df[\"Race(s)\"].apply(\n",
    "        lambda x: int(element in x) if pd.notna(x) else None\n",
    "    )\n",
    "\n",
    "raceClean_df = raceClean_df.drop(columns={\"Race(s)\",\"IsRace\"})"
   ]
  },
  {
   "cell_type": "markdown",
   "metadata": {},
   "source": [
    "##### PreferredElements"
   ]
  },
  {
   "cell_type": "code",
   "execution_count": 8,
   "metadata": {},
   "outputs": [
    {
     "data": {
      "text/plain": [
       "PreferredElements\n",
       "Party/Low-Stakes;                                                                                                                              3\n",
       "Conflict/Competition;Luck;Strategy;Social Deduction/Hidden Role;                                                                               2\n",
       "Cooperation;Conflict/Competition;Luck;Strategy;Social Deduction/Hidden Role;Heavy/Immersive Theming;Puzzle-Solving;Trivia;Party/Low-Stakes;    2\n",
       "Conflict/Competition;                                                                                                                          2\n",
       "Conflict/Competition;Strategy;                                                                                                                 2\n",
       "                                                                                                                                              ..\n",
       "Luck;Puzzle-Solving;Strategy;                                                                                                                  1\n",
       "Conflict/Competition;Luck;Strategy;Social Deduction/Hidden Role;Party/Low-Stakes;                                                              1\n",
       "Cooperation;Conflict/Competition;Strategy;Party/Low-Stakes;                                                                                    1\n",
       "Luck;Conflict/Competition;Trivia;Strategy;                                                                                                     1\n",
       "Cooperation;Strategy;                                                                                                                          1\n",
       "Name: count, Length: 104, dtype: int64"
      ]
     },
     "execution_count": 8,
     "metadata": {},
     "output_type": "execute_result"
    }
   ],
   "source": [
    "raceClean_df[\"PreferredElements\"].value_counts()"
   ]
  },
  {
   "cell_type": "code",
   "execution_count": 9,
   "metadata": {},
   "outputs": [
    {
     "data": {
      "text/plain": [
       "{'',\n",
       " 'Conflict/Competition',\n",
       " 'Cooperation',\n",
       " 'Heavy/Immersive Theming',\n",
       " 'Luck',\n",
       " 'Party/Low-Stakes',\n",
       " 'Puzzle-Solving',\n",
       " 'Social Deduction/Hidden Role',\n",
       " 'Strategy',\n",
       " 'Trivia'}"
      ]
     },
     "execution_count": 9,
     "metadata": {},
     "output_type": "execute_result"
    }
   ],
   "source": [
    "preferredElementsClean_df = raceClean_df.copy()\n",
    "\n",
    "unique_preferred_elements = set()\n",
    "for elements in preferredElementsClean_df['PreferredElements'].dropna():\n",
    "    unique_preferred_elements.update(elements.split(';'))\n",
    "unique_preferred_elements\n",
    "\n"
   ]
  },
  {
   "cell_type": "code",
   "execution_count": 10,
   "metadata": {},
   "outputs": [],
   "source": [
    "# Create a new column for each unique element with binary values (0 or 1 or None)\n",
    "for element in unique_preferred_elements:\n",
    "    preferredElementsClean_df[(element + \"IsPreferredElement\").replace(\" \", \"\")] = preferredElementsClean_df['PreferredElements'].apply(\n",
    "        lambda x: int(element in x) if pd.notna(x) else None\n",
    "    )\n",
    "\n",
    "preferredElementsClean_df = preferredElementsClean_df.drop(columns={\"PreferredElements\",\"IsPreferredElement\"})"
   ]
  },
  {
   "cell_type": "markdown",
   "metadata": {},
   "source": [
    "##### EnjoyedGenres"
   ]
  },
  {
   "cell_type": "code",
   "execution_count": 11,
   "metadata": {},
   "outputs": [
    {
     "data": {
      "text/plain": [
       "{'',\n",
       " 'Abstract Strategy',\n",
       " 'Adventure',\n",
       " 'Animals',\n",
       " 'Auction',\n",
       " 'Card',\n",
       " 'Card Drafting',\n",
       " 'Civilization',\n",
       " 'Cooperative\\xa0',\n",
       " 'Deck-Building\\xa0',\n",
       " 'Deduction',\n",
       " 'Economic',\n",
       " 'Educational',\n",
       " 'Exploration',\n",
       " 'Fantasy',\n",
       " 'Farming',\n",
       " 'Fighting',\n",
       " 'Horror',\n",
       " 'Luck',\n",
       " 'Medieval',\n",
       " 'Memory',\n",
       " 'Miniatures',\n",
       " 'Party\\xa0',\n",
       " 'Pirates',\n",
       " 'Political',\n",
       " 'Puzzle',\n",
       " 'Racing',\n",
       " 'Role-Playing\\xa0',\n",
       " 'Roll and Move\\xa0',\n",
       " 'Science Fiction',\n",
       " 'Social Deduction/Hidden Role',\n",
       " 'Sports',\n",
       " 'Strategy',\n",
       " 'Territory Building',\n",
       " 'Tile-Laying\\xa0',\n",
       " 'Trains',\n",
       " 'Transportation',\n",
       " 'Travel',\n",
       " 'Trivia',\n",
       " 'War\\xa0',\n",
       " 'Word\\xa0',\n",
       " 'Worker Placement',\n",
       " 'World War II',\n",
       " 'Zombies'}"
      ]
     },
     "execution_count": 11,
     "metadata": {},
     "output_type": "execute_result"
    }
   ],
   "source": [
    "enjoyedGenresClean_df = preferredElementsClean_df.copy()\n",
    "\n",
    "unique_enjoyed_genres = set()\n",
    "for elements in enjoyedGenresClean_df[\"EnjoyedGenres\"].dropna():\n",
    "    unique_enjoyed_genres.update(elements.split(';'))\n",
    "unique_enjoyed_genres\n"
   ]
  },
  {
   "cell_type": "code",
   "execution_count": 12,
   "metadata": {},
   "outputs": [],
   "source": [
    "# Create a new column for each unique element with binary values (0 or 1 or None)\n",
    "for element in unique_enjoyed_genres:\n",
    "    enjoyedGenresClean_df[(element + \"IsEnjoyedGenre\").replace(\" \", \"\")] = enjoyedGenresClean_df[\"EnjoyedGenres\"].apply(\n",
    "        lambda x: int(element in x) if pd.notna(x) else None\n",
    "    )\n",
    "\n",
    "enjoyedGenresClean_df = enjoyedGenresClean_df.drop(columns={\"EnjoyedGenres\",\"IsEnjoyedGenre\"})"
   ]
  },
  {
   "cell_type": "code",
   "execution_count": 13,
   "metadata": {},
   "outputs": [
    {
     "data": {
      "text/plain": [
       "['WWUStatus',\n",
       " 'Gender',\n",
       " 'Age',\n",
       " 'EmploymentStatus',\n",
       " 'Vision',\n",
       " 'Religiosity',\n",
       " 'AOS',\n",
       " 'EnjoysBoardGames',\n",
       " 'BoardGamesOwned',\n",
       " 'FrequencyOfPlay',\n",
       " 'Style',\n",
       " 'EnjoyedBoardGames',\n",
       " 'ChessRating',\n",
       " 'NativeHawaiianorPacificIslanderIsRace',\n",
       " 'PrefernottosayIsRace',\n",
       " 'AsianIsRace',\n",
       " 'WhiteIsRace',\n",
       " 'NativeAmericanorAmericanIndianIsRace',\n",
       " 'FilipinoIsRace',\n",
       " 'HispanicorLatinoIsRace',\n",
       " 'BlackorAfricanAmericanIsRace',\n",
       " 'SocialDeduction/HiddenRoleIsPreferredElement',\n",
       " 'Conflict/CompetitionIsPreferredElement',\n",
       " 'LuckIsPreferredElement',\n",
       " 'Heavy/ImmersiveThemingIsPreferredElement',\n",
       " 'CooperationIsPreferredElement',\n",
       " 'Party/Low-StakesIsPreferredElement',\n",
       " 'Puzzle-SolvingIsPreferredElement',\n",
       " 'StrategyIsPreferredElement',\n",
       " 'TriviaIsPreferredElement',\n",
       " 'SocialDeduction/HiddenRoleIsEnjoyedGenre',\n",
       " 'MiniaturesIsEnjoyedGenre',\n",
       " 'RollandMove\\xa0IsEnjoyedGenre',\n",
       " 'CardIsEnjoyedGenre',\n",
       " 'Deck-Building\\xa0IsEnjoyedGenre',\n",
       " 'SportsIsEnjoyedGenre',\n",
       " 'PoliticalIsEnjoyedGenre',\n",
       " 'AbstractStrategyIsEnjoyedGenre',\n",
       " 'ScienceFictionIsEnjoyedGenre',\n",
       " 'WorldWarIIIsEnjoyedGenre',\n",
       " 'MedievalIsEnjoyedGenre',\n",
       " 'Tile-Laying\\xa0IsEnjoyedGenre',\n",
       " 'War\\xa0IsEnjoyedGenre',\n",
       " 'Cooperative\\xa0IsEnjoyedGenre',\n",
       " 'PuzzleIsEnjoyedGenre',\n",
       " 'CardDraftingIsEnjoyedGenre',\n",
       " 'ZombiesIsEnjoyedGenre',\n",
       " 'TravelIsEnjoyedGenre',\n",
       " 'DeductionIsEnjoyedGenre',\n",
       " 'FightingIsEnjoyedGenre',\n",
       " 'FarmingIsEnjoyedGenre',\n",
       " 'CivilizationIsEnjoyedGenre',\n",
       " 'FantasyIsEnjoyedGenre',\n",
       " 'RacingIsEnjoyedGenre',\n",
       " 'StrategyIsEnjoyedGenre',\n",
       " 'TriviaIsEnjoyedGenre',\n",
       " 'TrainsIsEnjoyedGenre',\n",
       " 'ExplorationIsEnjoyedGenre',\n",
       " 'AuctionIsEnjoyedGenre',\n",
       " 'Role-Playing\\xa0IsEnjoyedGenre',\n",
       " 'AdventureIsEnjoyedGenre',\n",
       " 'HorrorIsEnjoyedGenre',\n",
       " 'WorkerPlacementIsEnjoyedGenre',\n",
       " 'TransportationIsEnjoyedGenre',\n",
       " 'LuckIsEnjoyedGenre',\n",
       " 'PiratesIsEnjoyedGenre',\n",
       " 'TerritoryBuildingIsEnjoyedGenre',\n",
       " 'Word\\xa0IsEnjoyedGenre',\n",
       " 'AnimalsIsEnjoyedGenre',\n",
       " 'MemoryIsEnjoyedGenre',\n",
       " 'EducationalIsEnjoyedGenre',\n",
       " 'Party\\xa0IsEnjoyedGenre',\n",
       " 'EconomicIsEnjoyedGenre']"
      ]
     },
     "execution_count": 13,
     "metadata": {},
     "output_type": "execute_result"
    }
   ],
   "source": [
    "enjoyedGenresClean_df.columns.tolist()"
   ]
  },
  {
   "cell_type": "code",
   "execution_count": 14,
   "metadata": {},
   "outputs": [
    {
     "data": {
      "text/plain": [
       "['WWUStatus',\n",
       " 'Gender',\n",
       " 'Age',\n",
       " 'EmploymentStatus',\n",
       " 'Vision',\n",
       " 'Religiosity',\n",
       " 'AOS',\n",
       " 'EnjoysBoardGames',\n",
       " 'BoardGamesOwned',\n",
       " 'FrequencyOfPlay',\n",
       " 'Style',\n",
       " 'EnjoyedBoardGames',\n",
       " 'ChessRating',\n",
       " 'NativeHawaiianorPacificIslanderIsRace',\n",
       " 'PrefernottosayIsRace',\n",
       " 'AsianIsRace',\n",
       " 'WhiteIsRace',\n",
       " 'NativeAmericanorAmericanIndianIsRace',\n",
       " 'FilipinoIsRace',\n",
       " 'HispanicorLatinoIsRace',\n",
       " 'BlackorAfricanAmericanIsRace',\n",
       " 'SocialDeduction/HiddenRoleIsPreferredElement',\n",
       " 'Conflict/CompetitionIsPreferredElement',\n",
       " 'LuckIsPreferredElement',\n",
       " 'Heavy/ImmersiveThemingIsPreferredElement',\n",
       " 'CooperationIsPreferredElement',\n",
       " 'Party/Low-StakesIsPreferredElement',\n",
       " 'Puzzle-SolvingIsPreferredElement',\n",
       " 'StrategyIsPreferredElement',\n",
       " 'TriviaIsPreferredElement',\n",
       " 'SocialDeduction/HiddenRoleIsEnjoyedGenre',\n",
       " 'MiniaturesIsEnjoyedGenre',\n",
       " 'RollandMoveIsEnjoyedGenre',\n",
       " 'CardIsEnjoyedGenre',\n",
       " 'Deck-BuildingIsEnjoyedGenre',\n",
       " 'SportsIsEnjoyedGenre',\n",
       " 'PoliticalIsEnjoyedGenre',\n",
       " 'AbstractStrategyIsEnjoyedGenre',\n",
       " 'ScienceFictionIsEnjoyedGenre',\n",
       " 'WorldWarIIIsEnjoyedGenre',\n",
       " 'MedievalIsEnjoyedGenre',\n",
       " 'Tile-LayingIsEnjoyedGenre',\n",
       " 'WarIsEnjoyedGenre',\n",
       " 'CooperativeIsEnjoyedGenre',\n",
       " 'PuzzleIsEnjoyedGenre',\n",
       " 'CardDraftingIsEnjoyedGenre',\n",
       " 'ZombiesIsEnjoyedGenre',\n",
       " 'TravelIsEnjoyedGenre',\n",
       " 'DeductionIsEnjoyedGenre',\n",
       " 'FightingIsEnjoyedGenre',\n",
       " 'FarmingIsEnjoyedGenre',\n",
       " 'CivilizationIsEnjoyedGenre',\n",
       " 'FantasyIsEnjoyedGenre',\n",
       " 'RacingIsEnjoyedGenre',\n",
       " 'StrategyIsEnjoyedGenre',\n",
       " 'TriviaIsEnjoyedGenre',\n",
       " 'TrainsIsEnjoyedGenre',\n",
       " 'ExplorationIsEnjoyedGenre',\n",
       " 'AuctionIsEnjoyedGenre',\n",
       " 'Role-PlayingIsEnjoyedGenre',\n",
       " 'AdventureIsEnjoyedGenre',\n",
       " 'HorrorIsEnjoyedGenre',\n",
       " 'WorkerPlacementIsEnjoyedGenre',\n",
       " 'TransportationIsEnjoyedGenre',\n",
       " 'LuckIsEnjoyedGenre',\n",
       " 'PiratesIsEnjoyedGenre',\n",
       " 'TerritoryBuildingIsEnjoyedGenre',\n",
       " 'WordIsEnjoyedGenre',\n",
       " 'AnimalsIsEnjoyedGenre',\n",
       " 'MemoryIsEnjoyedGenre',\n",
       " 'EducationalIsEnjoyedGenre',\n",
       " 'PartyIsEnjoyedGenre',\n",
       " 'EconomicIsEnjoyedGenre']"
      ]
     },
     "execution_count": 14,
     "metadata": {},
     "output_type": "execute_result"
    }
   ],
   "source": [
    "reformatColumns_df = enjoyedGenresClean_df.rename(columns=lambda x: x.replace(\"\\xa0\", \"\"))\n",
    "\n",
    "reformatColumns_df.columns.tolist()"
   ]
  },
  {
   "cell_type": "markdown",
   "metadata": {},
   "source": [
    "### AOS (manual string bucketing)"
   ]
  },
  {
   "cell_type": "code",
   "execution_count": 15,
   "metadata": {},
   "outputs": [
    {
     "data": {
      "text/plain": [
       "array(['computer science ', 'data science ', 'data science', 'eece',\n",
       "       'electrical and computer engineering ', 'statistics',\n",
       "       'environmental studies', 'applied mathematics', 'chemistry', 'rml',\n",
       "       'political science', 'elementary education', 'english',\n",
       "       'music education', 'n/a', 'art', 'psychology', '',\n",
       "       'psych (probably)', 'music', 'environmental science - toxicology',\n",
       "       'history/museum studies', 'elementary ed',\n",
       "       'environmental science ', 'mathematics ', 'business', 'biochem ',\n",
       "       'vocal performance ', 'secondary education ', 'business ',\n",
       "       'linguistics', 'history', 'bio/anth', 'mathematics',\n",
       "       'marine biology ', 'environmental science',\n",
       "       'communication disorders', 'engineering ', 'biochem',\n",
       "       'kinesiology', 'economics and mathematics',\n",
       "       'music education and german', 'art p-12',\n",
       "       'chemistry either organic or inorganic', 'math',\n",
       "       'electrical engineering',\n",
       "       'undecided but leaning towards engineering', 'medicine ',\n",
       "       'rec management ', 'economics ', 'geology', 'visual journalism ',\n",
       "       'environmental studies ', 'biology/math',\n",
       "       'behavioral neuroscience', 'electrical engineering ',\n",
       "       'computer science', 'geology (paleoclimate)',\n",
       "       'marine biology and theater production', 'anthropology',\n",
       "       'biology ', 'management information systems ', 'marine bio',\n",
       "       'history/holocaust & genocide studies', 'sped & eled',\n",
       "       'visual journalism', 'anthropology, communication studies',\n",
       "       'theatre', 'studio art',\n",
       "       'urban planning and sustainable development',\n",
       "       'urban planning and sustainable development ', 'history ',\n",
       "       'art and design ', 'kinesiology ', 'spanish ', 'biochemistry ',\n",
       "       'art studio', 'art ed', 'comm'], dtype=object)"
      ]
     },
     "execution_count": 15,
     "metadata": {},
     "output_type": "execute_result"
    }
   ],
   "source": [
    "aos_df = reformatColumns_df\n",
    "aos_df[\"AOS\"].str.lower().unique()"
   ]
  },
  {
   "cell_type": "code",
   "execution_count": 16,
   "metadata": {},
   "outputs": [
    {
     "data": {
      "text/plain": [
       "0                   STEM\n",
       "1                   STEM\n",
       "2                   STEM\n",
       "3                   STEM\n",
       "4                   STEM\n",
       "             ...        \n",
       "108    Arts & Humanities\n",
       "109    Arts & Humanities\n",
       "110                 STEM\n",
       "111                 STEM\n",
       "112                Other\n",
       "Name: AOSCat, Length: 113, dtype: object"
      ]
     },
     "execution_count": 16,
     "metadata": {},
     "output_type": "execute_result"
    }
   ],
   "source": [
    "manual_mapping_aos = {\n",
    "    'computer science': 'STEM',\n",
    "    'data science': 'STEM',\n",
    "    'eece': 'STEM',\n",
    "    'electrical and computer engineering': 'STEM',\n",
    "    'statistics': 'STEM',\n",
    "    'environmental studies': 'STEM',\n",
    "    'applied mathematics': 'STEM',\n",
    "    'chemistry': 'STEM',\n",
    "    'rml': 'Other',\n",
    "    'political science': 'Social Studies',\n",
    "    'elementary education': 'Education',\n",
    "    'english': 'Arts & Humanities',\n",
    "    'music education': 'Arts & Humanities',\n",
    "    'nan': 'Other',\n",
    "    'art': 'Arts & Humanities',\n",
    "    'psychology': 'Social Studies',\n",
    "    'psych (probably)': 'Social Studies',\n",
    "    'music': 'Arts & Humanities',\n",
    "    'environmental science - toxicology': 'STEM',\n",
    "    'history/museum studies': 'Arts & Humanities',\n",
    "    'elementary ed': 'Education',\n",
    "    'environmental science': 'STEM',\n",
    "    'mathematics': 'STEM',\n",
    "    'business': 'Business',\n",
    "    'biochem': 'STEM',\n",
    "    'vocal performance': 'Arts & Humanities',\n",
    "    'secondary education': 'Education',\n",
    "    'linguistics': 'Arts & Humanities',\n",
    "    'history': 'Arts & Humanities',\n",
    "    'bio/anth': 'STEM',\n",
    "    'marine biology': 'STEM',\n",
    "    'communication disorders': 'Health & Medicine',\n",
    "    'engineering': 'STEM',\n",
    "    'kinesiology': 'Health & Medicine',\n",
    "    'economics and mathematics': 'STEM',\n",
    "    'music education and german': 'Arts & Humanities',\n",
    "    'art p-12': 'Arts & Humanities',\n",
    "    'chemistry either organic or inorganic': 'STEM',\n",
    "    'math': 'STEM',\n",
    "    'electrical engineering': 'STEM',\n",
    "    'undecided but leaning towards engineering': 'Other',  # Assuming lean towards STEM, but no exact match\n",
    "    'medicine': 'Health & Medicine',\n",
    "    'rec management': 'Other',  # Assuming Recreation Management\n",
    "    'economics': 'Social Studies',  # Close to 'economics and mathematics', but economics is often considered Social Studies\n",
    "    'geology': 'STEM',\n",
    "    'visual journalism': 'Arts & Humanities',\n",
    "    'biology/math': 'STEM',  # Combination of two STEM fields\n",
    "    'behavioral neuroscience': 'STEM',  # Close to 'psychology' which is Social Studies, but has a heavy STEM component\n",
    "    'marine biology and theater production': 'STEM',  # Marine biology is STEM, theater production could be Arts, but STEM is the primary\n",
    "    'anthropology': 'Social Studies',\n",
    "    'biology': 'STEM',\n",
    "    'management information systems': 'Business',\n",
    "    'marine bio': 'STEM',\n",
    "    'history/holocaust & genocide studies': 'Arts & Humanities',\n",
    "    'sped & eled': 'Education',  # Assuming this refers to special education & elementary education\n",
    "    'anthropology, communication studies': 'Social Studies',\n",
    "    'theatre': 'Arts & Humanities',\n",
    "    'studio art': 'Arts & Humanities',\n",
    "    'urban planning and sustainable development': 'Other',  # Not a clear category, could be Social Studies or another category\n",
    "    'art and design': 'Arts & Humanities',\n",
    "    'spanish': 'Arts & Humanities',  # Language studies are often classified here\n",
    "    'biochemistry': 'STEM',\n",
    "    'art studio': 'Arts & Humanities',\n",
    "    'art ed': 'Arts & Humanities',\n",
    "    'comm': 'Other',  # Assuming 'communication', but not explicitly listed, could fit Social Studies or Business,\n",
    "    # Any further missing areas of study would need specific consideration and mapping.\n",
    "}\n",
    "\n",
    "\n",
    "\n",
    "def categorize_aos_string(aos):\n",
    "    if pd.isnull(aos) or aos == \"n/a\" or aos == \"\" or aos == \"N/A\":\n",
    "        return 'Unknown'  # For handling NaN values\n",
    "    field_clean = aos.lower()\n",
    "    for key, category in manual_mapping_aos.items():\n",
    "        if key in field_clean:\n",
    "            return category\n",
    "    raise ValueError(f\"Unknown category: {aos}\") \n",
    "\n",
    "aos_df[\"AOSCat\"] = aos_df[\"AOS\"].apply(categorize_aos_string)\n",
    "\n",
    "aos_df[\"AOSCat\"]"
   ]
  },
  {
   "cell_type": "markdown",
   "metadata": {},
   "source": [
    "### Shorting the Length of Single Select Answer Choices for \"Style\""
   ]
  },
  {
   "cell_type": "code",
   "execution_count": 17,
   "metadata": {},
   "outputs": [
    {
     "data": {
      "text/plain": [
       "array(['Not interested in playing board/card games.',\n",
       "       'Party-only player, primarily playing board/card games at social gatherings or parties.',\n",
       "       'Strategy-focused player, enjoying games that require planning and tactics, but also participates in more casual games.',\n",
       "       'Situation-Specific Player, adapts style and enthusiasm based on the specific game or social context. May be casual in some situations and highly strategic in others, depending on the game being played.',\n",
       "       'None of these describe me.',\n",
       "       'Casual player, participating for fun and relaxation, without a strong focus on winning. Still willing to engage with complex games.',\n",
       "       'Simple and straightforward player, preferring uncomplicated games with easy rules.'],\n",
       "      dtype=object)"
      ]
     },
     "execution_count": 17,
     "metadata": {},
     "output_type": "execute_result"
    }
   ],
   "source": [
    "style_df = aos_df \n",
    "\n",
    "style_df[\"Style\"].unique()"
   ]
  },
  {
   "cell_type": "code",
   "execution_count": 18,
   "metadata": {},
   "outputs": [
    {
     "data": {
      "text/plain": [
       "array(['Not Interested', 'Party/Social', 'Strategic',\n",
       "       'Situation-Specific', 'Other', 'Casual', 'Simple'], dtype=object)"
      ]
     },
     "execution_count": 18,
     "metadata": {},
     "output_type": "execute_result"
    }
   ],
   "source": [
    "player_styles_mapping = {\n",
    "    \"Strategy-focused player, enjoying games that require planning and tactics, but also participates in more casual games.\": \"Strategic\",\n",
    "    \"Situation-Specific Player, adapts style and enthusiasm based on the specific game or social context. May be casual in some situations and highly strategic in others, depending on the game being played.\": \"Situation-Specific\",\n",
    "    \"Casual player, participating for fun and relaxation, without a strong focus on winning. Still willing to engage with complex games.\": \"Casual\",\n",
    "    \"Simple and straightforward player, preferring uncomplicated games with easy rules.\": \"Simple\",\n",
    "    \"Party-only player, primarily playing board/card games at social gatherings or parties.\": \"Party/Social\",\n",
    "    \"Not interested in playing board/card games.\": \"Not Interested\",\n",
    "    \"Never played or never had the opportunity to play board/card games.\": \"Never Played\",\n",
    "    \"None of these describe me.\": \"Other\",\n",
    "    \"Prefer not to say\": \"Prefer not to say\"\n",
    "}\n",
    "\n",
    "def map_player_styles(string):\n",
    "    for key, val in player_styles_mapping.items():\n",
    "        if key in string:\n",
    "            return val\n",
    "    raise ValueError(f\"Unknown category: {string}\") \n",
    "\n",
    "new_style_df = style_df.copy()\n",
    "\n",
    "new_style_df[\"Style\"] = style_df[\"Style\"].apply(map_player_styles)\n",
    "\n",
    "new_style_df[\"Style\"].unique()"
   ]
  },
  {
   "cell_type": "code",
   "execution_count": 19,
   "metadata": {},
   "outputs": [],
   "source": [
    "cleaned_df = new_style_df\n",
    "\n",
    "cleaned_df.to_csv(\"datasets/cleaned.csv\")"
   ]
  },
  {
   "cell_type": "markdown",
   "metadata": {},
   "source": [
    "### Exploratory Data Analysis"
   ]
  },
  {
   "cell_type": "code",
   "execution_count": 20,
   "metadata": {},
   "outputs": [
    {
     "data": {
      "text/plain": [
       "Gender\n",
       "Man                          57\n",
       "Woman                        38\n",
       "Non-binary                   11\n",
       "unsure                        1\n",
       "girl thing                    1\n",
       "Wouldn't you like to know     1\n",
       "Prefer not to say             1\n",
       "Gender-fluid                  1\n",
       "Genderfluid                   1\n",
       "Gender queer                  1\n",
       "Name: count, dtype: int64"
      ]
     },
     "execution_count": 20,
     "metadata": {},
     "output_type": "execute_result"
    }
   ],
   "source": [
    "cleaned_df[\"Gender\"].value_counts()"
   ]
  },
  {
   "cell_type": "code",
   "execution_count": 21,
   "metadata": {},
   "outputs": [
    {
     "data": {
      "text/plain": [
       "<Axes: xlabel='Gender', ylabel='ChessRating'>"
      ]
     },
     "execution_count": 21,
     "metadata": {},
     "output_type": "execute_result"
    },
    {
     "data": {
      "image/png": "[encoded data removed]",
      "text/plain": [
       "<Figure size 640x480 with 1 Axes>"
      ]
     },
     "metadata": {},
     "output_type": "display_data"
    }
   ],
   "source": [
    "import seaborn as sns\n",
    "\n",
    "gendersForAnalysis = {\"Man\",\"Woman\",\"Non-binary\"}\n",
    "\n",
    "genderForAnalysis_df = cleaned_df[cleaned_df[\"Gender\"].isin(gendersForAnalysis)].copy()\n",
    "\n",
    "sns.boxplot(x=genderForAnalysis_df[\"Gender\"],y=genderForAnalysis_df[\"ChessRating\"])"
   ]
  },
  {
   "cell_type": "code",
   "execution_count": 22,
   "metadata": {},
   "outputs": [
    {
     "data": {
      "text/plain": [
       "<Axes: xlabel='Style', ylabel='Count'>"
      ]
     },
     "execution_count": 22,
     "metadata": {},
     "output_type": "execute_result"
    },
    {
     "data": {
      "image/png": "[encoded data removed]",
      "text/plain": [
       "<Figure size 640x480 with 1 Axes>"
      ]
     },
     "metadata": {},
     "output_type": "display_data"
    }
   ],
   "source": [
    "sns.histplot(x=genderForAnalysis_df[\"Style\"],hue=genderForAnalysis_df[\"Gender\"])"
   ]
  },
  {
   "cell_type": "code",
   "execution_count": 23,
   "metadata": {},
   "outputs": [
    {
     "data": {
      "text/plain": [
       "EmploymentStatus\n",
       "Unemployed                           57\n",
       "Employed part-time                   51\n",
       "Employed full-time                    3\n",
       "Seeking employment                    1\n",
       "Seasonal worker during the summer     1\n",
       "Name: count, dtype: int64"
      ]
     },
     "execution_count": 23,
     "metadata": {},
     "output_type": "execute_result"
    }
   ],
   "source": [
    "cleaned_df[\"EmploymentStatus\"].value_counts()"
   ]
  },
  {
   "cell_type": "code",
   "execution_count": 24,
   "metadata": {},
   "outputs": [
    {
     "data": {
      "text/plain": [
       "<Axes: ylabel='ChessRating'>"
      ]
     },
     "execution_count": 24,
     "metadata": {},
     "output_type": "execute_result"
    },
    {
     "data": {
      "image/png": "[encoded data removed]",
      "text/plain": [
       "<Figure size 640x480 with 1 Axes>"
      ]
     },
     "metadata": {},
     "output_type": "display_data"
    }
   ],
   "source": [
    "sns.boxplot(hue=genderForAnalysis_df[\"EmploymentStatus\"],y=genderForAnalysis_df[\"ChessRating\"])"
   ]
  },
  {
   "cell_type": "code",
   "execution_count": 25,
   "metadata": {},
   "outputs": [
    {
     "data": {
      "text/plain": [
       "{'',\n",
       " 'Conflict/Competition',\n",
       " 'Cooperation',\n",
       " 'Heavy/Immersive Theming',\n",
       " 'Luck',\n",
       " 'Party/Low-Stakes',\n",
       " 'Puzzle-Solving',\n",
       " 'Social Deduction/Hidden Role',\n",
       " 'Strategy',\n",
       " 'Trivia'}"
      ]
     },
     "execution_count": 25,
     "metadata": {},
     "output_type": "execute_result"
    }
   ],
   "source": [
    "unique_preferred_elements"
   ]
  },
  {
   "cell_type": "code",
   "execution_count": 26,
   "metadata": {},
   "outputs": [
    {
     "data": {
      "text/plain": [
       "<Axes: xlabel='Gender', ylabel='TriviaIsPreferredElement'>"
      ]
     },
     "execution_count": 26,
     "metadata": {},
     "output_type": "execute_result"
    },
    {
     "data": {
      "image/png": "[encoded data removed]",
      "text/plain": [
       "<Figure size 640x480 with 1 Axes>"
      ]
     },
     "metadata": {},
     "output_type": "display_data"
    }
   ],
   "source": [
    "sns.barplot(x=genderForAnalysis_df[\"Gender\"],y=genderForAnalysis_df[\"TriviaIsPreferredElement\"])"
   ]
  },
  {
   "cell_type": "code",
   "execution_count": 27,
   "metadata": {},
   "outputs": [
    {
     "data": {
      "text/plain": [
       "array(['I do not own any board/card games.\\xa0', '2 to 5', '10 to 20',\n",
       "       'More than 20', '1 or 2', '5 to 10'], dtype=object)"
      ]
     },
     "execution_count": 27,
     "metadata": {},
     "output_type": "execute_result"
    }
   ],
   "source": [
    "genderForAnalysis_df[\"BoardGamesOwned\"].unique()"
   ]
  },
  {
   "cell_type": "code",
   "execution_count": 28,
   "metadata": {},
   "outputs": [
    {
     "data": {
      "text/plain": [
       "<Axes: xlabel='Gender', ylabel='BoardGamesOwned'>"
      ]
     },
     "execution_count": 28,
     "metadata": {},
     "output_type": "execute_result"
    },
    {
     "data": {
      "image/png": "[encoded data removed]",
      "text/plain": [
       "<Figure size 640x480 with 1 Axes>"
      ]
     },
     "metadata": {},
     "output_type": "display_data"
    }
   ],
   "source": [
    "range_order = ['0', '1 or 2', '2 to 5', '5 to 10', '10 to 20', \"More than 20\"]\n",
    "\n",
    "# Convert the 'BoardGamesOwned' column to a categorical type with the specified order\n",
    "genderForAnalysis_df['BoardGamesOwned'] = genderForAnalysis_df['BoardGamesOwned'].apply(lambda x: \"0\" if x == \"I do not own any board/card games.\\xa0\" else x)\n",
    "\n",
    "genderForAnalysis_df['BoardGamesOwned'] = pd.Categorical(genderForAnalysis_df['BoardGamesOwned'], categories=range_order, ordered=True)\n",
    "\n",
    "# Plot the histogram with the ordered categories\n",
    "sns.barplot(y=genderForAnalysis_df['BoardGamesOwned'],x=genderForAnalysis_df[\"Gender\"])\n",
    "\n",
    "\n"
   ]
  },
  {
   "cell_type": "code",
   "execution_count": 29,
   "metadata": {},
   "outputs": [
    {
     "data": {
      "text/plain": [
       "<Axes: xlabel='AOSCat', ylabel='ChessRating'>"
      ]
     },
     "execution_count": 29,
     "metadata": {},
     "output_type": "execute_result"
    },
    {
     "data": {
      "image/png": "[encoded data removed]",
      "text/plain": [
       "<Figure size 640x480 with 1 Axes>"
      ]
     },
     "metadata": {},
     "output_type": "display_data"
    }
   ],
   "source": [
    "sns.barplot(x=cleaned_df[\"AOSCat\"],y=cleaned_df[\"ChessRating\"])"
   ]
  },
  {
   "attachments": {},
   "cell_type": "markdown",
   "metadata": {},
   "source": [
    "### Machine Learning"
   ]
  }
 ],
 "metadata": {
  "kernelspec": {
   "display_name": "Python 3",
   "language": "python",
   "name": "python3"
  },
  "language_info": {
   "codemirror_mode": {
    "name": "ipython",
    "version": 3
   },
   "file_extension": ".py",
   "mimetype": "text/x-python",
   "name": "python",
   "nbconvert_exporter": "python",
   "pygments_lexer": "ipython3",
   "version": "3.11.5"
  }
 },
 "nbformat": 4,
 "nbformat_minor": 2
}
