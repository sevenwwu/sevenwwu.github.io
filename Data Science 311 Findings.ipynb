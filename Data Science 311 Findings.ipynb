{
 "cells": [
  {
   "cell_type": "markdown",
   "metadata": {},
   "source": [
    "# Board Game Behavior: An Analysis of Demographics and Gameplay Preferences"
   ]
  },
  {
   "cell_type": "markdown",
   "metadata": {},
   "source": [
    "## Documentation\n",
    "\n",
    "[Initial Project Proposal](write-ups/initial_project_proposal.md)"
   ]
  },
  {
   "cell_type": "markdown",
   "metadata": {},
   "source": [
    "## Data Processing and Modeling"
   ]
  },
  {
   "cell_type": "markdown",
   "metadata": {},
   "source": [
    "### Data Cleaning"
   ]
  },
  {
   "cell_type": "code",
   "execution_count": 1,
   "metadata": {},
   "outputs": [
    {
<<<<<<< HEAD
     "ename": "ModuleNotFoundError",
     "evalue": "No module named 'pandas'",
     "output_type": "error",
     "traceback": [
      "\u001b[1;31m---------------------------------------------------------------------------\u001b[0m",
      "\u001b[1;31mModuleNotFoundError\u001b[0m                       Traceback (most recent call last)",
      "Cell \u001b[1;32mIn[1], line 1\u001b[0m\n\u001b[1;32m----> 1\u001b[0m \u001b[39mimport\u001b[39;00m \u001b[39mpandas\u001b[39;00m \u001b[39mas\u001b[39;00m \u001b[39mpd\u001b[39;00m\n\u001b[0;32m      3\u001b[0m raw_df \u001b[39m=\u001b[39m pd\u001b[39m.\u001b[39mread_excel(\u001b[39m\"\u001b[39m\u001b[39mdatasets/rawdata.xlsx\u001b[39m\u001b[39m\"\u001b[39m)\n\u001b[0;32m      5\u001b[0m raw_df\u001b[39m.\u001b[39minfo()\n",
      "\u001b[1;31mModuleNotFoundError\u001b[0m: No module named 'pandas'"
=======
     "name": "stdout",
     "output_type": "stream",
     "text": [
      "<class 'pandas.core.frame.DataFrame'>\n",
      "RangeIndex: 108 entries, 0 to 107\n",
      "Data columns (total 22 columns):\n",
      " #   Column                                                                                                                                               Non-Null Count  Dtype         \n",
      "---  ------                                                                                                                                               --------------  -----         \n",
      " 0   ID                                                                                                                                                   108 non-null    int64         \n",
      " 1   Start time                                                                                                                                           108 non-null    datetime64[ns]\n",
      " 2   Completion time                                                                                                                                      108 non-null    datetime64[ns]\n",
      " 3   Email                                                                                                                                                108 non-null    object        \n",
      " 4   Name                                                                                                                                                 0 non-null      float64       \n",
      " 5   Last modified time                                                                                                                                   1 non-null      datetime64[ns]\n",
      " 6   I am a:                                                                                                                                              108 non-null    object        \n",
      " 7   What is your Gender Identity?                                                                                                                        108 non-null    object        \n",
      " 8   What is your Age?\n",
      "(this field may remain blank)                                                                                                      103 non-null    float64       \n",
      " 9   What is your Race?                                                                                                                                   108 non-null    object        \n",
      " 10  What is your current Employment Status?                                                                                                              108 non-null    object        \n",
      " 11  Do you wear glasses or contact lenses for vision correction?                                                                                         50 non-null     object        \n",
      " 12  What best describes your current religious or spiritual beliefs, if any?\n",
      "                                                                            108 non-null    object        \n",
      " 13  What is your Area of Study or Major? \n",
      "(this field may remain blank)\n",
      "                                                                                 94 non-null     object        \n",
      " 14  Do you enjoy playing board games, card games, or similar tabletop games?                                                                             108 non-null    object        \n",
      " 15  How many board/card games do you own? \n",
      "(All non-roleplay table top games are included, i.e., chess, playing cards, Uno, Magic: The Gathering, etc.)  108 non-null    object        \n",
      " 16  About how frequently do you play board/card games?                                                                                                   108 non-null    object        \n",
      " 17  Select what best describes your engagement and style when it comes to board and card games?                                                          108 non-null    object        \n",
      " 18  I prefer games that include elements of:\n",
      "(select all that you prefer)                                                                                107 non-null    object        \n",
      " 19  List up to 15 board/card games that you enjoy playing. \n",
      "(abide by the format: \"Game 1\", \"Game 2\", \"Game 3\")\n",
      "(this field may remain blank)\n",
      "           87 non-null     object        \n",
      " 20  On a scale from 1 to 10, how much do you enjoy playing chess, with 1 being not enjoyable at all and 10 being extremely enjoyable?                    106 non-null    float64       \n",
      " 21  Select your all genres of board/card games you enjoy.\n",
      "(if your preferred genre(s) is/are not listed, please list them in the \"other\" selection)      103 non-null    object        \n",
      "dtypes: datetime64[ns](3), float64(3), int64(1), object(15)\n",
      "memory usage: 18.7+ KB\n"
>>>>>>> 41fc7ede58bd961baca9c8bbdb72dcbab2f3bf3d
     ]
    }
   ],
   "source": [
    "import pandas as pd\n",
    "\n",
    "raw_df = pd.read_excel(\"datasets/rawdata.xlsx\")\n",
    "\n",
    "raw_df.info()"
   ]
  },
  {
   "cell_type": "markdown",
   "metadata": {},
   "source": [
    "##### Drop Metadata"
   ]
  },
  {
   "cell_type": "code",
   "execution_count": null,
   "metadata": {},
   "outputs": [
    {
     "data": {
      "text/html": [
       "<div>\n",
       "<style scoped>\n",
       "    .dataframe tbody tr th:only-of-type {\n",
       "        vertical-align: middle;\n",
       "    }\n",
       "\n",
       "    .dataframe tbody tr th {\n",
       "        vertical-align: top;\n",
       "    }\n",
       "\n",
       "    .dataframe thead th {\n",
       "        text-align: right;\n",
       "    }\n",
       "</style>\n",
       "<table border=\"1\" class=\"dataframe\">\n",
       "  <thead>\n",
       "    <tr style=\"text-align: right;\">\n",
       "      <th></th>\n",
       "      <th>I am a:</th>\n",
       "      <th>What is your Gender Identity?</th>\n",
       "      <th>What is your Age?\\n(this field may remain blank)</th>\n",
       "      <th>What is your Race?</th>\n",
       "      <th>What is your current Employment Status?</th>\n",
       "      <th>Do you wear glasses or contact lenses for vision correction?</th>\n",
       "      <th>What best describes your current religious or spiritual beliefs, if any?\\n</th>\n",
       "      <th>What is your Area of Study or Major? \\n(this field may remain blank)\\n</th>\n",
       "      <th>Do you enjoy playing board games, card games, or similar tabletop games?</th>\n",
       "      <th>How many board/card games do you own? \\n(All non-roleplay table top games are included, i.e., chess, playing cards, Uno, Magic: The Gathering, etc.)</th>\n",
       "      <th>About how frequently do you play board/card games?</th>\n",
       "      <th>Select what best describes your engagement and style when it comes to board and card games?</th>\n",
       "      <th>I prefer games that include elements of:\\n(select all that you prefer)</th>\n",
       "      <th>List up to 15 board/card games that you enjoy playing. \\n(abide by the format: \"Game 1\", \"Game 2\", \"Game 3\")\\n(this field may remain blank)\\n</th>\n",
       "      <th>On a scale from 1 to 10, how much do you enjoy playing chess, with 1 being not enjoyable at all and 10 being extremely enjoyable?</th>\n",
       "      <th>Select your all genres of board/card games you enjoy.\\n(if your preferred genre(s) is/are not listed, please list them in the \"other\" selection)</th>\n",
       "    </tr>\n",
       "  </thead>\n",
       "  <tbody>\n",
       "  </tbody>\n",
       "</table>\n",
       "</div>"
      ],
      "text/plain": [
       "Empty DataFrame\n",
       "Columns: [I am a:, What is your Gender Identity?, What is your Age?\n",
       "(this field may remain blank), What is your Race?, What is your current Employment Status?, Do you wear glasses or contact lenses for vision correction?, What best describes your current religious or spiritual beliefs, if any?\n",
       ", What is your Area of Study or Major? \n",
       "(this field may remain blank)\n",
       ", Do you enjoy playing board games, card games, or similar tabletop games?, How many board/card games do you own? \n",
       "(All non-roleplay table top games are included, i.e., chess, playing cards, Uno, Magic: The Gathering, etc.), About how frequently do you play board/card games?, Select what best describes your engagement and style when it comes to board and card games? , I prefer games that include elements of:\n",
       "(select all that you prefer), List up to 15 board/card games that you enjoy playing. \n",
       "(abide by the format: \"Game 1\", \"Game 2\", \"Game 3\")\n",
       "(this field may remain blank)\n",
       ", On a scale from 1 to 10, how much do you enjoy playing chess, with 1 being not enjoyable at all and 10 being extremely enjoyable?, Select your all genres of board/card games you enjoy.\n",
       "(if your preferred genre(s) is/are not listed, please list them in the \"other\" selection)]\n",
       "Index: []"
      ]
     },
     "execution_count": 3,
     "metadata": {},
     "output_type": "execute_result"
    }
   ],
   "source": [
    "dropped_df = raw_df.drop(columns=[\"ID\",\"Start time\",\"Completion time\",\"Email\",\"Name\",\"Last modified time\"])\n",
    "\n",
    "dropped_df[:0]"
   ]
  },
  {
   "cell_type": "markdown",
   "metadata": {},
   "source": [
    "#### Rename Raw Fields from Question to Concise Description"
   ]
  },
  {
   "cell_type": "code",
   "execution_count": null,
   "metadata": {},
   "outputs": [
    {
     "data": {
      "text/html": [
       "<div>\n",
       "<style scoped>\n",
       "    .dataframe tbody tr th:only-of-type {\n",
       "        vertical-align: middle;\n",
       "    }\n",
       "\n",
       "    .dataframe tbody tr th {\n",
       "        vertical-align: top;\n",
       "    }\n",
       "\n",
       "    .dataframe thead th {\n",
       "        text-align: right;\n",
       "    }\n",
       "</style>\n",
       "<table border=\"1\" class=\"dataframe\">\n",
       "  <thead>\n",
       "    <tr style=\"text-align: right;\">\n",
       "      <th></th>\n",
       "      <th>WWUStatus</th>\n",
       "      <th>Gender</th>\n",
       "      <th>Age</th>\n",
       "      <th>Race(s)</th>\n",
       "      <th>EmploymentStatus</th>\n",
       "      <th>Vision</th>\n",
       "      <th>Religiosity</th>\n",
       "      <th>AOS</th>\n",
       "      <th>EnjoysBoardGames</th>\n",
       "      <th>BoardGamesOwned</th>\n",
       "      <th>FrequencyOfPlay</th>\n",
       "      <th>Style</th>\n",
       "      <th>PreferredElements</th>\n",
       "      <th>EnjoyedBoardGames</th>\n",
       "      <th>ChessRating</th>\n",
       "      <th>EnjoyedGenres</th>\n",
       "    </tr>\n",
       "  </thead>\n",
       "  <tbody>\n",
       "  </tbody>\n",
       "</table>\n",
       "</div>"
      ],
      "text/plain": [
       "Empty DataFrame\n",
       "Columns: [WWUStatus, Gender, Age, Race(s), EmploymentStatus, Vision, Religiosity, AOS, EnjoysBoardGames, BoardGamesOwned, FrequencyOfPlay, Style, PreferredElements, EnjoyedBoardGames, ChessRating, EnjoyedGenres]\n",
       "Index: []"
      ]
     },
     "execution_count": 4,
     "metadata": {},
     "output_type": "execute_result"
    }
   ],
   "source": [
    "renamed_df = dropped_df.rename(columns={\n",
    "    \"I am a:\": \"WWUStatus\",\n",
    "    \"What is your Gender Identity?\": \"Gender\",\n",
    "    \"What is your Age?\\n(this field may remain blank)\": \"Age\",\n",
    "    \"What is your Race?\": \"Race(s)\",\n",
    "    \"What is your current Employment Status?\": \"EmploymentStatus\",\n",
    "    \"Do you wear glasses or contact lenses for vision correction?\": \"Vision\",\n",
    "    \"What best describes your current religious or spiritual beliefs, if any?\\n\": \"Religiosity\",\n",
    "    \"What is your Area of Study or Major? \\n(this field may remain blank)\\n\": \"AOS\",\n",
    "    \"Do you enjoy playing board games, card games, or similar tabletop games?\": \"EnjoysBoardGames\",\n",
    "    \"How many board/card games do you own? \\n(All non-roleplay table top games are included, i.e., chess, playing cards, Uno, Magic: The Gathering, etc.)\": \"BoardGamesOwned\",\n",
    "    \"About how frequently do you play board/card games?\": \"FrequencyOfPlay\",\n",
    "    \"Select what best describes your engagement and style when it comes to board and card games? \": \"Style\",\n",
    "    \"I prefer games that include elements of:\\n(select all that you prefer)\": \"PreferredElements\",\n",
    "    \"List up to 15 board/card games that you enjoy playing. \\n(abide by the format: \\\"Game 1\\\", \\\"Game 2\\\", \\\"Game 3\\\")\\n(this field may remain blank)\\n\": \"EnjoyedBoardGames\",\n",
    "    \"On a scale from 1 to 10, how much do you enjoy playing chess, with 1 being not enjoyable at all and 10 being extremely enjoyable?\": \"ChessRating\",\n",
    "    \"Select your all genres of board/card games you enjoy.\\n(if your preferred genre(s) is/are not listed, please list them in the \\\"other\\\" selection)\": \"EnjoyedGenres\"\n",
    "})\n",
    "\n",
    "renamed_df[:0]\n"
   ]
  },
  {
   "cell_type": "markdown",
   "metadata": {},
   "source": [
    "#### Multiselect Binary/Boolean Features"
   ]
  },
  {
   "cell_type": "markdown",
   "metadata": {},
   "source": [
    "##### Race(s)"
   ]
  },
  {
   "cell_type": "code",
   "execution_count": null,
   "metadata": {},
   "outputs": [
    {
     "data": {
      "text/plain": [
       "Race(s)\n",
       "White;                                        80\n",
       "Hispanic or Latino;                            6\n",
       "Asian;                                         5\n",
       "White;Hispanic or Latino;                      3\n",
       "White;Asian;                                   2\n",
       "Asian;Hispanic or Latino;                      2\n",
       "White;Black or African American;               2\n",
       "Native American or American Indian;            1\n",
       "Prefer not to say;                             1\n",
       "White;Black or African American;Asian;         1\n",
       "Asian;White;                                   1\n",
       "Hispanic or Latino;White;                      1\n",
       "White;Native Hawaiian or Pacific Islander;     1\n",
       "Asian;Filipino;                                1\n",
       "Black or African American;White;               1\n",
       "Name: count, dtype: int64"
      ]
     },
     "execution_count": 5,
     "metadata": {},
     "output_type": "execute_result"
    }
   ],
   "source": [
    "renamed_df[\"Race(s)\"].value_counts()"
   ]
  },
  {
   "cell_type": "code",
   "execution_count": null,
   "metadata": {},
   "outputs": [
    {
     "data": {
      "text/plain": [
       "{'',\n",
       " 'Asian',\n",
       " 'Black or African American',\n",
       " 'Filipino',\n",
       " 'Hispanic or Latino',\n",
       " 'Native American or American Indian',\n",
       " 'Native Hawaiian or Pacific Islander',\n",
       " 'Prefer not to say',\n",
       " 'White'}"
      ]
     },
     "execution_count": 6,
     "metadata": {},
     "output_type": "execute_result"
    }
   ],
   "source": [
    "raceClean_df = renamed_df.copy()\n",
    "\n",
    "unique_races = set()\n",
    "for elements in raceClean_df[\"Race(s)\"].dropna():\n",
    "    unique_races.update(elements.split(';'))\n",
    "\n",
    "unique_races"
   ]
  },
  {
   "cell_type": "code",
   "execution_count": null,
   "metadata": {},
   "outputs": [],
   "source": [
    "# Create a new column for each unique element with binary values (0 or 1 or None)\n",
    "for element in unique_races:\n",
    "    raceClean_df[element + \"IsRace\"] = raceClean_df[\"Race(s)\"].apply(\n",
    "        lambda x: int(element in x) if pd.notna(x) else None\n",
    "    )\n",
    "\n",
    "raceClean_df = raceClean_df.drop(columns={\"Race(s)\",\"IsRace\"})"
   ]
  },
  {
   "cell_type": "markdown",
   "metadata": {},
   "source": [
    "##### PreferredElements"
   ]
  },
  {
   "cell_type": "code",
   "execution_count": null,
   "metadata": {},
   "outputs": [
    {
     "data": {
      "text/plain": [
       "PreferredElements\n",
       "Party/Low-Stakes;                                                                                                                              3\n",
       "Conflict/Competition;Luck;Strategy;Social Deduction/Hidden Role;                                                                               2\n",
       "Cooperation;Conflict/Competition;Strategy;Social Deduction/Hidden Role;Party/Low-Stakes;                                                       2\n",
       "Conflict/Competition;Strategy;                                                                                                                 2\n",
       "Cooperation;Conflict/Competition;Luck;Strategy;Social Deduction/Hidden Role;Heavy/Immersive Theming;Puzzle-Solving;Trivia;Party/Low-Stakes;    2\n",
       "                                                                                                                                              ..\n",
       "Conflict/Competition;Luck;Strategy;Social Deduction/Hidden Role;Party/Low-Stakes;                                                              1\n",
       "Cooperation;Conflict/Competition;Strategy;Party/Low-Stakes;                                                                                    1\n",
       "Luck;Conflict/Competition;Trivia;Strategy;                                                                                                     1\n",
       "Party/Low-Stakes;Trivia;Cooperation;                                                                                                           1\n",
       "Conflict/Competition;Cooperation;Party/Low-Stakes;                                                                                             1\n",
       "Name: count, Length: 99, dtype: int64"
      ]
     },
     "execution_count": 8,
     "metadata": {},
     "output_type": "execute_result"
    }
   ],
   "source": [
    "raceClean_df[\"PreferredElements\"].value_counts()"
   ]
  },
  {
   "cell_type": "code",
   "execution_count": null,
   "metadata": {},
   "outputs": [
    {
     "data": {
      "text/plain": [
       "{'',\n",
       " 'Conflict/Competition',\n",
       " 'Cooperation',\n",
       " 'Heavy/Immersive Theming',\n",
       " 'Luck',\n",
       " 'Party/Low-Stakes',\n",
       " 'Puzzle-Solving',\n",
       " 'Social Deduction/Hidden Role',\n",
       " 'Strategy',\n",
       " 'Trivia'}"
      ]
     },
     "execution_count": 9,
     "metadata": {},
     "output_type": "execute_result"
    }
   ],
   "source": [
    "preferredElementsClean_df = raceClean_df.copy()\n",
    "\n",
    "unique_preferred_elements = set()\n",
    "for elements in preferredElementsClean_df['PreferredElements'].dropna():\n",
    "    unique_preferred_elements.update(elements.split(';'))\n",
    "unique_preferred_elements\n",
    "\n"
   ]
  },
  {
   "cell_type": "code",
   "execution_count": null,
   "metadata": {},
   "outputs": [],
   "source": [
    "# Create a new column for each unique element with binary values (0 or 1 or None)\n",
    "for element in unique_preferred_elements:\n",
    "    preferredElementsClean_df[element + \"IsPreferredElement\"] = preferredElementsClean_df['PreferredElements'].apply(\n",
    "        lambda x: int(element in x) if pd.notna(x) else None\n",
    "    )\n",
    "\n",
    "preferredElementsClean_df = preferredElementsClean_df.drop(columns={\"PreferredElements\",\"IsPreferredElement\"})"
   ]
  },
  {
   "cell_type": "markdown",
   "metadata": {},
   "source": [
    "##### EnjoyedGenres"
   ]
  },
  {
   "cell_type": "code",
   "execution_count": null,
   "metadata": {},
   "outputs": [
    {
     "data": {
      "text/plain": [
       "{'',\n",
       " 'Abstract Strategy',\n",
       " 'Adventure',\n",
       " 'Animals',\n",
       " 'Auction',\n",
       " 'Card',\n",
       " 'Card Drafting',\n",
       " 'Civilization',\n",
       " 'Cooperative\\xa0',\n",
       " 'Deck-Building\\xa0',\n",
       " 'Deduction',\n",
       " 'Economic',\n",
       " 'Educational',\n",
       " 'Exploration',\n",
       " 'Fantasy',\n",
       " 'Farming',\n",
       " 'Fighting',\n",
       " 'Horror',\n",
       " 'Luck',\n",
       " 'Medieval',\n",
       " 'Memory',\n",
       " 'Miniatures',\n",
       " 'Party\\xa0',\n",
       " 'Pirates',\n",
       " 'Political',\n",
       " 'Puzzle',\n",
       " 'Racing',\n",
       " 'Role-Playing\\xa0',\n",
       " 'Roll and Move\\xa0',\n",
       " 'Science Fiction',\n",
       " 'Social Deduction/Hidden Role',\n",
       " 'Sports',\n",
       " 'Strategy',\n",
       " 'Territory Building',\n",
       " 'Tile-Laying\\xa0',\n",
       " 'Trains',\n",
       " 'Transportation',\n",
       " 'Travel',\n",
       " 'Trivia',\n",
       " 'War\\xa0',\n",
       " 'Word\\xa0',\n",
       " 'Worker Placement',\n",
       " 'World War II',\n",
       " 'Zombies'}"
      ]
     },
     "execution_count": 11,
     "metadata": {},
     "output_type": "execute_result"
    }
   ],
   "source": [
    "enjoyedGenresClean_df = preferredElementsClean_df.copy()\n",
    "\n",
    "unique_enjoyed_genres = set()\n",
    "for elements in enjoyedGenresClean_df[\"EnjoyedGenres\"].dropna():\n",
    "    unique_enjoyed_genres.update(elements.split(';'))\n",
    "unique_enjoyed_genres\n"
   ]
  },
  {
   "cell_type": "code",
   "execution_count": null,
   "metadata": {},
   "outputs": [],
   "source": [
    "# Create a new column for each unique element with binary values (0 or 1 or None)\n",
    "for element in unique_enjoyed_genres:\n",
    "    enjoyedGenresClean_df[element + \"IsEnjoyedGenre\"] = enjoyedGenresClean_df[\"EnjoyedGenres\"].apply(\n",
    "        lambda x: int(element in x) if pd.notna(x) else None\n",
    "    )\n",
    "\n",
    "enjoyedGenresClean_df = enjoyedGenresClean_df.drop(columns={\"EnjoyedGenres\",\"IsEnjoyedGenre\"})"
   ]
  },
  {
   "cell_type": "code",
   "execution_count": null,
   "metadata": {},
   "outputs": [
    {
     "data": {
      "text/html": [
       "<div>\n",
       "<style scoped>\n",
       "    .dataframe tbody tr th:only-of-type {\n",
       "        vertical-align: middle;\n",
       "    }\n",
       "\n",
       "    .dataframe tbody tr th {\n",
       "        vertical-align: top;\n",
       "    }\n",
       "\n",
       "    .dataframe thead th {\n",
       "        text-align: right;\n",
       "    }\n",
       "</style>\n",
       "<table border=\"1\" class=\"dataframe\">\n",
       "  <thead>\n",
       "    <tr style=\"text-align: right;\">\n",
       "      <th></th>\n",
       "      <th>WWUStatus</th>\n",
       "      <th>Gender</th>\n",
       "      <th>Age</th>\n",
       "      <th>EmploymentStatus</th>\n",
       "      <th>Vision</th>\n",
       "      <th>Religiosity</th>\n",
       "      <th>AOS</th>\n",
       "      <th>EnjoysBoardGames</th>\n",
       "      <th>BoardGamesOwned</th>\n",
       "      <th>FrequencyOfPlay</th>\n",
       "      <th>...</th>\n",
       "      <th>TransportationIsEnjoyedGenre</th>\n",
       "      <th>ExplorationIsEnjoyedGenre</th>\n",
       "      <th>FantasyIsEnjoyedGenre</th>\n",
       "      <th>TravelIsEnjoyedGenre</th>\n",
       "      <th>AuctionIsEnjoyedGenre</th>\n",
       "      <th>PuzzleIsEnjoyedGenre</th>\n",
       "      <th>Role-Playing IsEnjoyedGenre</th>\n",
       "      <th>EconomicIsEnjoyedGenre</th>\n",
       "      <th>DeductionIsEnjoyedGenre</th>\n",
       "      <th>MiniaturesIsEnjoyedGenre</th>\n",
       "    </tr>\n",
       "  </thead>\n",
       "  <tbody>\n",
       "  </tbody>\n",
       "</table>\n",
       "<p>0 rows × 73 columns</p>\n",
       "</div>"
      ],
      "text/plain": [
       "Empty DataFrame\n",
       "Columns: [WWUStatus, Gender, Age, EmploymentStatus, Vision, Religiosity, AOS, EnjoysBoardGames, BoardGamesOwned, FrequencyOfPlay, Style, EnjoyedBoardGames, ChessRating, Native American or American IndianIsRace, Hispanic or LatinoIsRace, WhiteIsRace, FilipinoIsRace, Black or African AmericanIsRace, Native Hawaiian or Pacific IslanderIsRace, AsianIsRace, Prefer not to sayIsRace, Puzzle-SolvingIsPreferredElement, Party/Low-StakesIsPreferredElement, Conflict/CompetitionIsPreferredElement, LuckIsPreferredElement, Social Deduction/Hidden RoleIsPreferredElement, CooperationIsPreferredElement, StrategyIsPreferredElement, Heavy/Immersive ThemingIsPreferredElement, TriviaIsPreferredElement, World War IIIsEnjoyedGenre, TrainsIsEnjoyedGenre, FarmingIsEnjoyedGenre, FightingIsEnjoyedGenre, AnimalsIsEnjoyedGenre, MedievalIsEnjoyedGenre, SportsIsEnjoyedGenre, War IsEnjoyedGenre, EducationalIsEnjoyedGenre, Science FictionIsEnjoyedGenre, CivilizationIsEnjoyedGenre, Worker PlacementIsEnjoyedGenre, StrategyIsEnjoyedGenre, Word IsEnjoyedGenre, Abstract StrategyIsEnjoyedGenre, HorrorIsEnjoyedGenre, ZombiesIsEnjoyedGenre, PoliticalIsEnjoyedGenre, PiratesIsEnjoyedGenre, CardIsEnjoyedGenre, Social Deduction/Hidden RoleIsEnjoyedGenre, Territory BuildingIsEnjoyedGenre, Cooperative IsEnjoyedGenre, TriviaIsEnjoyedGenre, Card DraftingIsEnjoyedGenre, AdventureIsEnjoyedGenre, RacingIsEnjoyedGenre, Tile-Laying IsEnjoyedGenre, LuckIsEnjoyedGenre, Roll and Move IsEnjoyedGenre, MemoryIsEnjoyedGenre, Deck-Building IsEnjoyedGenre, Party IsEnjoyedGenre, TransportationIsEnjoyedGenre, ExplorationIsEnjoyedGenre, FantasyIsEnjoyedGenre, TravelIsEnjoyedGenre, AuctionIsEnjoyedGenre, PuzzleIsEnjoyedGenre, Role-Playing IsEnjoyedGenre, EconomicIsEnjoyedGenre, DeductionIsEnjoyedGenre, MiniaturesIsEnjoyedGenre]\n",
       "Index: []\n",
       "\n",
       "[0 rows x 73 columns]"
      ]
     },
     "execution_count": 13,
     "metadata": {},
     "output_type": "execute_result"
    }
   ],
   "source": [
    "enjoyedGenresClean_df[:0]"
   ]
  },
  {
   "cell_type": "code",
   "execution_count": null,
   "metadata": {},
   "outputs": [],
   "source": [
    "cleaned_df = enjoyedGenresClean_df"
   ]
  },
  {
   "cell_type": "markdown",
   "metadata": {},
   "source": [
    "### Exploratory Data Analysis"
   ]
  },
  {
   "cell_type": "code",
   "execution_count": null,
   "metadata": {},
   "outputs": [
    {
     "data": {
      "text/plain": [
       "Gender\n",
       "Man                          56\n",
       "Woman                        34\n",
       "Non-binary                   11\n",
       "unsure                        1\n",
       "girl thing                    1\n",
       "Wouldn't you like to know     1\n",
       "Prefer not to say             1\n",
       "Gender-fluid                  1\n",
       "Genderfluid                   1\n",
       "Gender queer                  1\n",
       "Name: count, dtype: int64"
      ]
     },
     "execution_count": 15,
     "metadata": {},
     "output_type": "execute_result"
    }
   ],
   "source": [
    "cleaned_df[\"Gender\"].value_counts()"
   ]
  },
  {
   "cell_type": "code",
   "execution_count": null,
   "metadata": {},
   "outputs": [
    {
     "data": {
      "text/plain": [
       "<Axes: xlabel='Gender', ylabel='ChessRating'>"
      ]
     },
     "execution_count": 16,
     "metadata": {},
     "output_type": "execute_result"
    },
    {
     "data": {
      "image/png": "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",
      "text/plain": [
       "<Figure size 640x480 with 1 Axes>"
      ]
     },
     "metadata": {},
     "output_type": "display_data"
    }
   ],
   "source": [
    "import seaborn as sns\n",
    "\n",
    "gendersForAnalysis = {\"Man\",\"Woman\",\"Non-binary\"}\n",
    "\n",
    "genderForAnalysis_df = cleaned_df[cleaned_df[\"Gender\"].isin(gendersForAnalysis)]\n",
    "\n",
    "sns.boxplot(x=genderForAnalysis_df[\"Gender\"],y=genderForAnalysis_df[\"ChessRating\"])"
   ]
  },
  {
   "cell_type": "code",
   "execution_count": null,
   "metadata": {},
   "outputs": [
    {
     "data": {
      "text/plain": [
       "<Axes: xlabel='Style', ylabel='Count'>"
      ]
     },
     "execution_count": 17,
     "metadata": {},
     "output_type": "execute_result"
    },
    {
     "data": {
      "image/png": "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",
      "text/plain": [
       "<Figure size 640x480 with 1 Axes>"
      ]
     },
     "metadata": {},
     "output_type": "display_data"
    }
   ],
   "source": [
    "sns.histplot(x=genderForAnalysis_df[\"Style\"],hue=genderForAnalysis_df[\"Gender\"])"
   ]
  },
  {
   "cell_type": "code",
   "execution_count": null,
   "metadata": {},
   "outputs": [
    {
     "data": {
      "text/plain": [
       "EmploymentStatus\n",
       "Unemployed                           57\n",
       "Employed part-time                   46\n",
       "Employed full-time                    3\n",
       "Seeking employment                    1\n",
       "Seasonal worker during the summer     1\n",
       "Name: count, dtype: int64"
      ]
     },
     "execution_count": 18,
     "metadata": {},
     "output_type": "execute_result"
    }
   ],
   "source": [
    "cleaned_df[\"EmploymentStatus\"].value_counts()"
   ]
  },
  {
   "cell_type": "code",
   "execution_count": null,
   "metadata": {},
   "outputs": [
    {
     "data": {
      "text/plain": [
       "<Axes: ylabel='ChessRating'>"
      ]
     },
     "execution_count": 19,
     "metadata": {},
     "output_type": "execute_result"
    },
    {
     "data": {
      "image/png": "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",
      "text/plain": [
       "<Figure size 640x480 with 1 Axes>"
      ]
     },
     "metadata": {},
     "output_type": "display_data"
    }
   ],
   "source": [
    "sns.boxplot(hue=genderForAnalysis_df[\"EmploymentStatus\"],y=genderForAnalysis_df[\"ChessRating\"])"
   ]
  },
  {
   "cell_type": "code",
   "execution_count": null,
   "metadata": {},
   "outputs": [
    {
     "data": {
      "text/plain": [
       "{'',\n",
       " 'Conflict/Competition',\n",
       " 'Cooperation',\n",
       " 'Heavy/Immersive Theming',\n",
       " 'Luck',\n",
       " 'Party/Low-Stakes',\n",
       " 'Puzzle-Solving',\n",
       " 'Social Deduction/Hidden Role',\n",
       " 'Strategy',\n",
       " 'Trivia'}"
      ]
     },
     "execution_count": 20,
     "metadata": {},
     "output_type": "execute_result"
    }
   ],
   "source": [
    "unique_preferred_elements"
   ]
  },
  {
   "cell_type": "code",
   "execution_count": null,
   "metadata": {},
   "outputs": [
    {
     "data": {
      "text/plain": [
       "<Axes: xlabel='Gender', ylabel='TriviaIsPreferredElement'>"
      ]
     },
     "execution_count": 21,
     "metadata": {},
     "output_type": "execute_result"
    },
    {
     "data": {
      "image/png": "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",
      "text/plain": [
       "<Figure size 640x480 with 1 Axes>"
      ]
     },
     "metadata": {},
     "output_type": "display_data"
    }
   ],
   "source": [
    "sns.barplot(x=genderForAnalysis_df[\"Gender\"],y=genderForAnalysis_df[\"TriviaIsPreferredElement\"])"
   ]
  },
  {
   "cell_type": "markdown",
   "metadata": {},
   "source": [
    "\tWWUStatus\tGender\tAge\tRace(s)\tEmploymentStatus\tVision\tReligiosity\tAOS\tEnjoysBoardGames\tBoardGamesOwned\tFrequencyOfPlay\tStyle\tPreferredElements\tEnjoyedBoardGames\tChessRating\tEnjoyedGenres\n"
   ]
  },
  {
   "cell_type": "markdown",
   "metadata": {},
   "source": [
    "test"
   ]
  },
  {
   "attachments": {},
   "cell_type": "markdown",
   "metadata": {},
   "source": [
    "### Machine Learning"
   ]
  }
 ],
 "metadata": {
  "kernelspec": {
   "display_name": "Python 3",
   "language": "python",
   "name": "python3"
  },
  "language_info": {
   "codemirror_mode": {
    "name": "ipython",
    "version": 3
   },
   "file_extension": ".py",
   "mimetype": "text/x-python",
   "name": "python",
   "nbconvert_exporter": "python",
   "pygments_lexer": "ipython3",
   "version": "3.11.1"
  }
 },
 "nbformat": 4,
 "nbformat_minor": 2
}
