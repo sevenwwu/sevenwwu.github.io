{
 "cells": [
  {
   "cell_type": "markdown",
   "metadata": {},
   "source": [
    "# Board Game Behavior: An Analysis of Demographics and Gameplay Preferences"
   ]
  },
  {
   "cell_type": "markdown",
   "metadata": {},
   "source": [
    "## Documentation\n",
    "\n",
    "[Initial Project Proposal](https://github.com/sevenwwu/sevenwwu.github.io/blob/main/write-ups/initial_project_proposal_revised.md) (11/8/23)\n",
    "\n",
    "[Milestone One](https://github.com/sevenwwu/sevenwwu.github.io/tree/main/write-ups/milestone_one_delieverable) (11/18/23)"
   ]
  },
  {
   "cell_type": "markdown",
   "metadata": {},
   "source": [
    "## Data Processing and Modeling"
   ]
  },
  {
   "cell_type": "code",
   "execution_count": null,
   "metadata": {},
   "outputs": [],
   "source": [
    "!python -m pip install pandas\n",
    "!python -m pip install openpyxl\n",
    "!python -m pip install seaborn\n",
    "!python -m pip install scikit-learn"
   ]
  },
  {
   "cell_type": "markdown",
   "metadata": {},
   "source": [
    "### Data Cleaning"
   ]
  },
  {
   "cell_type": "code",
   "execution_count": null,
   "metadata": {},
   "outputs": [],
   "source": [
    "import pandas as pd\n",
    "import numpy as np\n",
    "\n",
    "raw_df = pd.read_excel(\"datasets/rawdata.xlsx\",keep_default_na=False)\n",
    "\n",
    "raw_df.info()"
   ]
  },
  {
   "cell_type": "markdown",
   "metadata": {},
   "source": [
    "##### Drop Metadata"
   ]
  },
  {
   "cell_type": "code",
   "execution_count": null,
   "metadata": {},
   "outputs": [],
   "source": [
    "dropped_df = raw_df.drop(columns=[\"ID\",\"Start time\",\"Completion time\",\"Email\",\"Name\",\"Last modified time\"])\n",
    "\n",
    "dropped_df[:0]"
   ]
  },
  {
   "cell_type": "markdown",
   "metadata": {},
   "source": [
    "#### Rename Raw Fields from Question to Concise Description"
   ]
  },
  {
   "cell_type": "code",
   "execution_count": null,
   "metadata": {},
   "outputs": [],
   "source": [
    "renamed_df = dropped_df.rename(columns={\n",
    "    \"I am a:\": \"WWUStatus\",\n",
    "    \"What is your Gender Identity?\": \"Gender\",\n",
    "    \"What is your Age?\\n(this field may remain blank)\": \"Age\",\n",
    "    \"What is your Race?\": \"Race(s)\",\n",
    "    \"What is your current Employment Status?\": \"EmploymentStatus\",\n",
    "    \"Do you wear glasses or contact lenses for vision correction?\": \"Vision\",\n",
    "    \"What best describes your current religious or spiritual beliefs, if any?\\n\": \"Religiosity\",\n",
    "    \"What is your Area of Study or Major? \\n(this field may remain blank)\\n\": \"AOS\",\n",
    "    \"Do you enjoy playing board games, card games, or similar tabletop games?\": \"EnjoysBoardGames\",\n",
    "    \"How many board/card games do you own? \\n(All non-roleplay table top games are included, i.e., chess, playing cards, Uno, Magic: The Gathering, etc.)\": \"BoardGamesOwned\",\n",
    "    \"About how frequently do you play board/card games?\": \"FrequencyOfPlay\",\n",
    "    \"Select what best describes your engagement and style when it comes to board and card games? \": \"Style\",\n",
    "    \"I prefer games that include elements of:\\n(select all that you prefer)\": \"PreferredElements\",\n",
    "    \"List up to 15 board/card games that you enjoy playing. \\n(abide by the format: \\\"Game 1\\\", \\\"Game 2\\\", \\\"Game 3\\\")\\n(this field may remain blank)\\n\": \"EnjoyedBoardGames\",\n",
    "    \"On a scale from 1 to 10, how much do you enjoy playing chess, with 1 being not enjoyable at all and 10 being extremely enjoyable?\": \"ChessRating\",\n",
    "    \"Select your all genres of board/card games you enjoy.\\n(if your preferred genre(s) is/are not listed, please list them in the \\\"other\\\" selection)\": \"EnjoyedGenres\"\n",
    "})\n",
    "\n",
    "renamed_df[:0]\n"
   ]
  },
  {
   "cell_type": "markdown",
   "metadata": {},
   "source": [
    "#### Multiselect Binary/Boolean Features"
   ]
  },
  {
   "cell_type": "markdown",
   "metadata": {},
   "source": [
    "##### Race(s)"
   ]
  },
  {
   "cell_type": "code",
   "execution_count": null,
   "metadata": {},
   "outputs": [],
   "source": [
    "renamed_df[\"Race(s)\"].value_counts()"
   ]
  },
  {
   "cell_type": "code",
   "execution_count": null,
   "metadata": {},
   "outputs": [],
   "source": [
    "raceClean_df = renamed_df.copy()\n",
    "\n",
    "unique_races = set()\n",
    "for elements in raceClean_df[\"Race(s)\"].dropna():\n",
    "    unique_races.update(elements.split(\";\"))\n",
    "\n",
    "unique_races = list(unique_races)\n",
    "unique_races.sort()"
   ]
  },
  {
   "cell_type": "code",
   "execution_count": null,
   "metadata": {},
   "outputs": [],
   "source": [
    "# Create a new column for each unique element with binary values (0 or 1 or None)\n",
    "for element in unique_races:\n",
    "    raceClean_df[(element + \"IsRace\").replace(\" \", \"\")] = raceClean_df[\"Race(s)\"].apply(\n",
    "        lambda x: int(element in x) if pd.notna(x) else None\n",
    "    )\n",
    "\n",
    "raceClean_df = raceClean_df.drop(columns={\"Race(s)\",\"IsRace\"})"
   ]
  },
  {
   "cell_type": "markdown",
   "metadata": {},
   "source": [
    "##### PreferredElements"
   ]
  },
  {
   "cell_type": "code",
   "execution_count": null,
   "metadata": {},
   "outputs": [],
   "source": [
    "raceClean_df[\"PreferredElements\"].value_counts()"
   ]
  },
  {
   "cell_type": "code",
   "execution_count": null,
   "metadata": {},
   "outputs": [],
   "source": [
    "preferredElementsClean_df = raceClean_df.copy()\n",
    "\n",
    "unique_preferred_elements = set()\n",
    "for elements in preferredElementsClean_df[\"PreferredElements\"].dropna():\n",
    "    unique_preferred_elements.update(elements.split(\";\"))\n",
    "unique_preferred_elements\n",
    "\n",
    "unique_preferred_elements = list(unique_preferred_elements)\n",
    "unique_preferred_elements.sort()"
   ]
  },
  {
   "cell_type": "code",
   "execution_count": null,
   "metadata": {},
   "outputs": [],
   "source": [
    "# Create a new column for each unique element with binary values (0 or 1 or None)\n",
    "for element in unique_preferred_elements:\n",
    "    preferredElementsClean_df[(element + \"IsPreferredElement\").replace(\" \", \"\")] = preferredElementsClean_df[\"PreferredElements\"].apply(\n",
    "        lambda x: int(element in x) if pd.notna(x) else None\n",
    "    )\n",
    "\n",
    "preferredElementsClean_df = preferredElementsClean_df.drop(columns={\"PreferredElements\",\"IsPreferredElement\"})"
   ]
  },
  {
   "cell_type": "markdown",
   "metadata": {},
   "source": [
    "##### EnjoyedGenres"
   ]
  },
  {
   "cell_type": "code",
   "execution_count": null,
   "metadata": {},
   "outputs": [],
   "source": [
    "enjoyedGenresClean_df = preferredElementsClean_df.copy()\n",
    "\n",
    "unique_enjoyed_genres = set()\n",
    "for elements in enjoyedGenresClean_df[\"EnjoyedGenres\"].dropna():\n",
    "    unique_enjoyed_genres.update(elements.split(\";\"))\n",
    "unique_enjoyed_genres\n",
    "\n",
    "unique_enjoyed_genres = list(unique_enjoyed_genres)\n",
    "unique_enjoyed_genres.sort()"
   ]
  },
  {
   "cell_type": "code",
   "execution_count": null,
   "metadata": {},
   "outputs": [],
   "source": [
    "# Create a new column for each unique element with binary values (0 or 1 or None)\n",
    "for element in unique_enjoyed_genres:\n",
    "    enjoyedGenresClean_df[(element + \"IsEnjoyedGenre\").replace(\" \", \"\")] = enjoyedGenresClean_df[\"EnjoyedGenres\"].apply(\n",
    "        lambda x: int(element in x) if pd.notna(x) else None\n",
    "    )\n",
    "\n",
    "enjoyedGenresClean_df = enjoyedGenresClean_df.drop(columns={\"EnjoyedGenres\",\"IsEnjoyedGenre\"})"
   ]
  },
  {
   "cell_type": "code",
   "execution_count": null,
   "metadata": {},
   "outputs": [],
   "source": [
    "enjoyedGenresClean_df.columns.tolist()"
   ]
  },
  {
   "cell_type": "code",
   "execution_count": null,
   "metadata": {},
   "outputs": [],
   "source": [
    "reformatColumns_df = enjoyedGenresClean_df.rename(columns=lambda x: x.replace(\"\\xa0\", \"\"))\n",
    "\n",
    "reformatColumns_df.columns.tolist()"
   ]
  },
  {
   "cell_type": "markdown",
   "metadata": {},
   "source": [
    "#### AOS (manual string bucketing)"
   ]
  },
  {
   "cell_type": "code",
   "execution_count": null,
   "metadata": {},
   "outputs": [],
   "source": [
    "aos_df = reformatColumns_df\n",
    "aos_df[\"AOS\"].str.lower().unique()"
   ]
  },
  {
   "cell_type": "code",
   "execution_count": null,
   "metadata": {},
   "outputs": [],
   "source": [
    "manual_mapping_aos = {\n",
    "    \"computer science\": \"STEM\",\n",
    "    \"data science\": \"STEM\",\n",
    "    \"eece\": \"STEM\",\n",
    "    \"electrical and computer engineering\": \"STEM\",\n",
    "    \"statistics\": \"STEM\",\n",
    "    \"environmental studies\": \"STEM\",\n",
    "    \"applied mathematics\": \"STEM\",\n",
    "    \"chemistry\": \"STEM\",\n",
    "    \"rml\": \"Other\",\n",
    "    \"political science\": \"Social Studies\",\n",
    "    \"elementary education\": \"Education\",\n",
    "    \"english\": \"Arts & Humanities\",\n",
    "    \"music education\": \"Arts & Humanities\",\n",
    "    \"nan\": \"Other\",\n",
    "    \"art\": \"Arts & Humanities\",\n",
    "    \"psychology\": \"Social Studies\",\n",
    "    \"psych (probably)\": \"Social Studies\",\n",
    "    \"music\": \"Arts & Humanities\",\n",
    "    \"environmental science - toxicology\": \"STEM\",\n",
    "    \"history/museum studies\": \"Arts & Humanities\",\n",
    "    \"elementary ed\": \"Education\",\n",
    "    \"environmental science\": \"STEM\",\n",
    "    \"mathematics\": \"STEM\",\n",
    "    \"business\": \"Business\",\n",
    "    \"biochem\": \"STEM\",\n",
    "    \"vocal performance\": \"Arts & Humanities\",\n",
    "    \"secondary education\": \"Education\",\n",
    "    \"linguistics\": \"Arts & Humanities\",\n",
    "    \"history\": \"Arts & Humanities\",\n",
    "    \"bio/anth\": \"STEM\",\n",
    "    \"marine biology\": \"STEM\",\n",
    "    \"communication disorders\": \"Health & Medicine\",\n",
    "    \"engineering\": \"STEM\",\n",
    "    \"kinesiology\": \"Health & Medicine\",\n",
    "    \"economics and mathematics\": \"STEM\",\n",
    "    \"music education and german\": \"Arts & Humanities\",\n",
    "    \"art p-12\": \"Arts & Humanities\",\n",
    "    \"chemistry either organic or inorganic\": \"STEM\",\n",
    "    \"math\": \"STEM\",\n",
    "    \"electrical engineering\": \"STEM\",\n",
    "    \"undecided but leaning towards engineering\": \"Unknown\",  # Assuming lean towards STEM, but no exact match\n",
    "    \"medicine\": \"Health & Medicine\",\n",
    "    \"rec management\": \"Other\",  # Assuming Recreation Management\n",
    "    \"economics\": \"Social Studies\",  # Close to \"economics and mathematics\", but economics is often considered Social Studies\n",
    "    \"geology\": \"STEM\",\n",
    "    \"geology (paleoclimate)\": \"STEM\",\n",
    "    \"visual journalism\": \"Arts & Humanities\",\n",
    "    \"biology/math\": \"STEM\",  # Combination of two STEM fields\n",
    "    \"behavioral neuroscience\": \"STEM\",  # Close to \"psychology\" which is Social Studies, but has a heavy STEM component\n",
    "    \"marine biology and theater production\": \"STEM\",  # Marine biology is STEM, theater production could be Arts, but STEM is the primary\n",
    "    \"anthropology\": \"Social Studies\",\n",
    "    \"biology\": \"STEM\",\n",
    "    \"management information systems\": \"Business\",\n",
    "    \"marine bio\": \"STEM\",\n",
    "    \"history/holocaust & genocide studies\": \"Arts & Humanities\",\n",
    "    \"sped & eled\": \"Education\",  # Assuming this refers to special education & elementary education\n",
    "    \"anthropology, communication studies\": \"Social Studies\",\n",
    "    \"theatre\": \"Arts & Humanities\",\n",
    "    \"studio art\": \"Arts & Humanities\",\n",
    "    \"urban planning and sustainable development\": \"Other\",  # Not a clear category, could be Social Studies or another category\n",
    "    \"art and design\": \"Arts & Humanities\",\n",
    "    \"spanish\": \"Arts & Humanities\",  # Language studies are often classified here\n",
    "    \"biochemistry\": \"STEM\",\n",
    "    \"art studio\": \"Arts & Humanities\",\n",
    "    \"art ed\": \"Arts & Humanities\",\n",
    "    \"comm\": \"Other\",  # Assuming \"communication\", but not explicitly listed, could fit Social Studies or Business,\n",
    "    \n",
    "    \"environmental studies: eco-social justice and education emphasis\": \"STEM\",  # Falls under Environmental Studies\n",
    "    \"communications\": \"Other\",  # Often classified as Arts & Humanities\n",
    "    \"theatre/education\": \"Education\",  # Falls under Education\n",
    "    \"undecided\": \"Unknown\",  # Assuming still undecided as before\n",
    "    \"marketing\": \"Business\",  # Falls under Business\n",
    "    \"communication studies\": \"Arts & Humanities\",  # Often classified as Arts & Humanities\n",
    "    \"sociology\": \"Social Studies\",  # Social Studies\n",
    "    \"education and public relations\": \"Education\",  # Falls under Education\n",
    "    \"pre nursing\": \"Health & Medicine\",  # Falls under Health & Medicine\n",
    "    \"economics/mathematics\": \"STEM\",  # Combination of Economics and Mathematics - falls under STEM\n",
    "    \"mathematics secondary education\": \"Education\",  # Falls under Education\n",
    "    \"dance\": \"Arts & Humanities\",  # Often classified as Arts & Humanities\n",
    "    \"art studio (ba), art history\": \"Arts & Humanities\",  # Falls under Arts & Humanities\n",
    "    \"narrative and folklore studies (fairhaven major)\": \"Arts & Humanities\",  # Falls under Arts & Humanities\n",
    "    \"pre med and psychology\": \"Health & Medicine\",  # Falls under Health & Medicine\n",
    "    \"archaeology\": \"Social Studies\",  # Falls under Social Studies\n",
    "    \"neuroscience\": \"STEM\",  # Falls under STEM\n",
    "    \"english literature with a teaching emphasis\": \"Arts & Humanities\",  # Falls under Arts & Humanities\n",
    "    \"marine science\": \"STEM\",  # Falls under STEM\n",
    "    \"fairhaven\": \"Other\",  # Falls under Other\n",
    "    \"international business\": \"Business\",  # Falls under Business\n",
    "    \"music composition\": \"Arts & Humanities\",  # Falls under Arts & Humanities\n",
    "    \"creative writing\": \"Arts & Humanities\",  # Falls under Arts & Humanities\n",
    "    \"business and sustainability\": \"Business\",  # Falls under Business\n",
    "    \"early childhood education\": \"Education\",  # Falls under Education\n",
    "    \"graphic design\": \"Arts & Humanities\",  # Falls under Arts & Humanities\n",
    "    \"education\": \"Education\",  # Falls under Education\n",
    "    \"stem\": \"STEM\",  # Falls under STEM\n",
    "    \"envs\": \"STEM\",  # Falls under STEM\n",
    "\n",
    "    \n",
    "    \"behavioural neuroscience\": \"STEM\",\n",
    "    \"english lit\": \"Arts & Humanities\",\n",
    "    \"food equity and sustainable agriculture\": \"Other\",  # Could be Social Studies, Business, or even STEM, unclear\n",
    "    \"art history and museum studies\": \"Arts & Humanities\",\n",
    "    \"japanese language\": \"Arts & Humanities\",\n",
    "    \"graphic design and marketing\": \"Arts & Humanities\",  # Graphic Design is often in Arts & Humanities, Marketing is Business, but first seems primary\n",
    "    \"music performance major\": \"Arts & Humanities\",\n",
    "    \"environment studies\": \"STEM\",\n",
    "    \"business or elementary education\": \"Unknown\",  # Could be either Business or Education \n",
    "    \"marine and coastal science\": \"STEM\",\n",
    "    \"undeclared, strongly thinking about history\": \"Unknown\",  # Assuming lean towards Arts & Humanities, but no exact match\n",
    "    \"public health\": \"Health & Medicine\",\n",
    "    \"energy policy and management\": \"Other\",  # Could be Business, Social Studies, or STEM\n",
    "    \"undeclared\": \"Unknown\",\n",
    "    \"fine arts\": \"Arts & Humanities\",\n",
    "    \"english, history of culture\": \"Arts & Humanities\",\n",
    "    \"psychology and elementary education\": \"Education\",  # Both Psychology and Elementary Education could be Education\n",
    "    \"communication science and disordwrs\": \"Health & Medicine\",\n",
    "    \"anthropology/history\": \"Social Studies\",\n",
    "    \"special education and elementary education\": \"Education\",\n",
    "    \"ibus\": \"Business\",  # Assuming International Business\n",
    "    \"energy science\": \"STEM\",\n",
    "    \"politics/philosophy/economics\": \"Social Studies\",  # Combination of three Social Studies fields\n",
    "    \"history/social studies\": \"Social Studies\",\n",
    "    \"energy\": \"STEM\"  # Energy could be a part of STEM disciplines like Physics or Environmental Sciences\n",
    "}\n",
    "\n",
    "\n",
    "noncategorized_data = []\n",
    "\n",
    "def categorize_aos_string(aos):\n",
    "    if pd.isnull(aos) or aos == \"n/a\" or aos == \"\" or aos == \"N/A\":\n",
    "        return \"Unknown\"  # For handling NaN values\n",
    "    field_clean = aos.lower().rstrip()\n",
    "    for key, category in manual_mapping_aos.items():\n",
    "        if key == field_clean:\n",
    "            return category\n",
    "    noncategorized_data.append(field_clean)    \n",
    "\n",
    "\n",
    "aos_df[\"AOSCat\"] = aos_df[\"AOS\"].apply(categorize_aos_string)\n",
    "\n",
    "if (len(noncategorized_data) > 0):\n",
    "    raise ValueError(f\"Unknown categories: {noncategorized_data}\") \n",
    "\n",
    "aos_df[\"AOSCat\"].unique()"
   ]
  },
  {
   "cell_type": "markdown",
   "metadata": {},
   "source": [
    "#### Shorting the Length of Single Select Answer Choices for \"Style\""
   ]
  },
  {
   "cell_type": "code",
   "execution_count": null,
   "metadata": {},
   "outputs": [],
   "source": [
    "style_df = aos_df \n",
    "\n",
    "style_df[\"Style\"].unique()"
   ]
  },
  {
   "cell_type": "code",
   "execution_count": null,
   "metadata": {},
   "outputs": [],
   "source": [
    "player_styles_mapping = {\n",
    "    \"Strategy-focused player, enjoying games that require planning and tactics, but also participates in more casual games.\": \"Strategic\",\n",
    "    \"Situation-Specific Player, adapts style and enthusiasm based on the specific game or social context. May be casual in some situations and highly strategic in others, depending on the game being played.\": \"Situation-Specific\",\n",
    "    \"Casual player, participating for fun and relaxation, without a strong focus on winning. Still willing to engage with complex games.\": \"Casual\",\n",
    "    \"Simple and straightforward player, preferring uncomplicated games with easy rules.\": \"Simple\",\n",
    "    \"Party-only player, primarily playing board/card games at social gatherings or parties.\": \"Party/Social\",\n",
    "    \"Not interested in playing board/card games.\": \"Not Interested\",\n",
    "    \"Never played or never had the opportunity to play board/card games.\": \"Never Played\",\n",
    "    \"None of these describe me.\": \"Other\",\n",
    "    \"Prefer not to say\": \"Prefer not to say\"\n",
    "}\n",
    "\n",
    "def map_player_styles(string):\n",
    "    for key, val in player_styles_mapping.items():\n",
    "        if key in string:\n",
    "            return val\n",
    "    raise ValueError(f\"Unknown category: {string}\") \n",
    "\n",
    "new_style_df = style_df.copy()\n",
    "\n",
    "new_style_df[\"Style\"] = style_df[\"Style\"].apply(map_player_styles)\n",
    "\n",
    "new_style_df[\"Style\"].unique()"
   ]
  },
  {
   "cell_type": "markdown",
   "metadata": {},
   "source": [
    "#### Assigning Order to Particular Catagories"
   ]
  },
  {
   "cell_type": "code",
   "execution_count": null,
   "metadata": {},
   "outputs": [],
   "source": [
    "cat_order_df = new_style_df.copy()\n",
    "\n",
    "cat_order_df[\"BoardGamesOwned\"] = cat_order_df[\"BoardGamesOwned\"].apply(lambda x: \"0\" if x == \"I do not own any board/card games.\\xa0\" else x)\n",
    "\n",
    "cat_order_df[\"BoardGamesOwned\"] = pd.Categorical(cat_order_df[\"BoardGamesOwned\"],\n",
    "    categories=[\"Prefer not to say\",\"0\", \"1 or 2\", \"2 to 5\", \"5 to 10\", \"10 to 20\", \"More than 20\"],ordered=True)\n",
    "\n",
    "\n",
    "cat_order_df[\"FrequencyOfPlay\"] = pd.Categorical(cat_order_df[\"FrequencyOfPlay\"],\n",
    "    categories=[\"Daily\",\"Several times a week\",\"Weekly\",\"Several times a month\",\"Monthly\",\"Every few months\",\"Rarely/Seldom\",\"Never\",\"Prefer not to say\",],ordered=True)\n",
    "\n",
    "\n",
    "cat_order_df[\"ChessRating\"] = cat_order_df[\"ChessRating\"].apply(lambda x: \"Unknown\" if x == \"\" else x)\n",
    "\n",
    "cat_order_df[\"ChessRating\"] = pd.Categorical(cat_order_df[\"ChessRating\"].astype(str),\n",
    "    categories=[\"Unknown\",\"1\",\"2\",\"3\",\"4\",\"5\",\"6\",\"7\",\"8\",\"9\",\"10\"], ordered=True)\n"
   ]
  },
  {
   "cell_type": "markdown",
   "metadata": {},
   "source": [
    "#### Convert Features to Int"
   ]
  },
  {
   "cell_type": "code",
   "execution_count": null,
   "metadata": {},
   "outputs": [],
   "source": [
    "convert_df = cat_order_df.copy()\n",
    "convert_df[\"Age\"] = convert_df[\"Age\"].apply(lambda x: -1 if x == \"\" else x)\n",
    "convert_df[\"Age\"] = convert_df[\"Age\"].astype(int)"
   ]
  },
  {
   "cell_type": "code",
   "execution_count": null,
   "metadata": {},
   "outputs": [],
   "source": [
    "cleaned_df = convert_df\n",
    "\n",
    "cleaned_df.to_csv(\"datasets/cleaned.csv\")"
   ]
  },
  {
   "cell_type": "markdown",
   "metadata": {},
   "source": [
    "### Exploratory Data Analysis"
   ]
  },
  {
   "cell_type": "code",
   "execution_count": null,
   "metadata": {},
   "outputs": [],
   "source": [
    "single_select_features = ['WWUStatus', 'Gender', 'Age', 'EmploymentStatus', 'Vision',\n",
    "       'Religiosity', 'AOSCat', 'EnjoysBoardGames', 'BoardGamesOwned',\n",
    "       'FrequencyOfPlay', 'Style', 'ChessRating']\n",
    "\n",
    "race_bool_features = ['WhiteIsRace','AsianIsRace', 'BlackorAfricanAmericanIsRace', 'FilipinoIsRace',\n",
    "       'HispanicorLatinoIsRace','MixedethnicityIsRace', 'MultiracialIsRace', 'NativeAmericanorAmericanIndianIsRace',\n",
    "       'NativeHawaiianorPacificIslanderIsRace', 'PrefernottosayIsRace',]\n",
    "       \n",
    "element_bool_features = ['Conflict/CompetitionIsPreferredElement',\n",
    "       'CooperationIsPreferredElement',\n",
    "       'Heavy/ImmersiveThemingIsPreferredElement', 'LuckIsPreferredElement',\n",
    "       'Party/Low-StakesIsPreferredElement',\n",
    "       'Puzzle-SolvingIsPreferredElement',\n",
    "       'SocialDeduction/HiddenRoleIsPreferredElement',\n",
    "       'StrategyIsPreferredElement', 'TriviaIsPreferredElement',]\n",
    "\n",
    "genre_bool_features = ['AbstractStrategyIsEnjoyedGenre', 'AdventureIsEnjoyedGenre',\n",
    "       'AnimalsIsEnjoyedGenre', 'AuctionIsEnjoyedGenre', 'CardIsEnjoyedGenre',\n",
    "       'CardDraftingIsEnjoyedGenre', 'CivilizationIsEnjoyedGenre',\n",
    "       'CooperativeIsEnjoyedGenre', 'Deck-BuildingIsEnjoyedGenre',\n",
    "       'DeductionIsEnjoyedGenre', 'EconomicIsEnjoyedGenre',\n",
    "       'EducationalIsEnjoyedGenre', 'ExplorationIsEnjoyedGenre',\n",
    "       'FantasyIsEnjoyedGenre', 'FarmingIsEnjoyedGenre',\n",
    "       'FightingIsEnjoyedGenre', 'HorrorIsEnjoyedGenre', 'LuckIsEnjoyedGenre',\n",
    "       'MedievalIsEnjoyedGenre', 'MemoryIsEnjoyedGenre',\n",
    "       'MiniaturesIsEnjoyedGenre', 'PartyIsEnjoyedGenre',\n",
    "       'PiratesIsEnjoyedGenre', 'PoliticalIsEnjoyedGenre',\n",
    "       'PuzzleIsEnjoyedGenre', 'RacingIsEnjoyedGenre',\n",
    "       'Role-PlayingIsEnjoyedGenre', 'RollandMoveIsEnjoyedGenre',\n",
    "       'ScienceFictionIsEnjoyedGenre',\n",
    "       'SocialDeduction/HiddenRoleIsEnjoyedGenre', 'SportsIsEnjoyedGenre',\n",
    "       'StrategyIsEnjoyedGenre', 'TerritoryBuildingIsEnjoyedGenre',\n",
    "       'Tile-LayingIsEnjoyedGenre', 'TrainsIsEnjoyedGenre',\n",
    "       'TransportationIsEnjoyedGenre', 'TravelIsEnjoyedGenre',\n",
    "       'TriviaIsEnjoyedGenre', 'WarIsEnjoyedGenre', 'WordIsEnjoyedGenre',\n",
    "       'WorkerPlacementIsEnjoyedGenre', 'WorldWarIIIsEnjoyedGenre',\n",
    "       'ZombiesIsEnjoyedGenre',]\n",
    "\n",
    "free_form_features = ['AOS','EnjoyedBoardGames']\n"
   ]
  },
  {
   "cell_type": "code",
   "execution_count": null,
   "metadata": {},
   "outputs": [],
   "source": [
    "len(cleaned_df.columns)"
   ]
  },
  {
   "cell_type": "code",
   "execution_count": null,
   "metadata": {},
   "outputs": [],
   "source": [
    "len(single_select_features + race_bool_features + element_bool_features + genre_bool_features + free_form_features)"
   ]
  },
  {
   "cell_type": "code",
   "execution_count": null,
   "metadata": {},
   "outputs": [],
   "source": [
    "cleaned_df[\"Religiosity\"].value_counts()"
   ]
  },
  {
   "cell_type": "code",
   "execution_count": null,
   "metadata": {},
   "outputs": [],
   "source": [
    "religious_bucketing = {\n",
    "    \"Christianity\": \"Religious\",\n",
    "    \"Judaism\": \"Religious\",\n",
    "    \"Islam\": \"Religious\",\n",
    "    \"Hinduism\": \"Religious\",\n",
    "    \"Buddhism\": \"Religious\",\n",
    "    \"Lutheran\": \"Religious\",\n",
    "    \"Pagan\": \"Religious\",\n",
    "    \"Paganism\": \"Religious\",\n",
    "    \"Unitarian\": \"Religious\",\n",
    "    \"I believe a god exists but don’t follow any religious texts\": \"Religious\",\n",
    "    \"Toaism\": \"Religious\",\n",
    "    \"pagan\": \"Religious\",\n",
    "\n",
    "    \"Atheism\": \"Not Religious\",\n",
    "    \"No specific belief\": \"Not Religious\",\n",
    "    \"Agnosticism\": \"Not Religious\",\n",
    "    \"Spiritual, not affiliated with a specific religion\": \"Not Religious\",\n",
    "    \"Science\": \"Not Religious\",\n",
    "    \"being with oneself in connection to everything\": \"Not Religious\",\n",
    "    \"Prefer not to say\": \"Not Religious\",\n",
    "}"
   ]
  },
  {
   "cell_type": "markdown",
   "metadata": {},
   "source": [
    "#### Defining Functions for Analyzing Categorical Data"
   ]
  },
  {
   "cell_type": "code",
   "execution_count": null,
   "metadata": {},
   "outputs": [],
   "source": [
    "import matplotlib.pyplot as plt\n",
    "import matplotlib.ticker as mtick\n",
    "import seaborn as sns\n",
    "import pandas as pd\n",
    "\n",
    "\n",
    "\n",
    "def categories_against_category(df, categories, category):\n",
    "    for feature in categories:\n",
    "        print(df.groupby(category)[feature].value_counts())\n",
    "        # Compute percentage for each category within each cluster\n",
    "        df_percent = df.groupby(category)[feature].value_counts(normalize=True).rename('Percentage').reset_index()\n",
    "        df_percent[\"Percentage\"] *= 100  # Convert to %\n",
    "\n",
    "        # Create seaborn barplot\n",
    "        plt.figure(figsize=(8, 6))\n",
    "        sns.barplot(x=feature, y='Percentage', hue=category, data=df_percent)\n",
    "        plt.gca().yaxis.set_major_formatter(mtick.PercentFormatter())\n",
    "        plt.xticks(rotation=90)\n",
    "        plt.show()\n",
    "\n",
    "def bools_against_category(df,bools,category):\n",
    "    # Initialize an empty dataframe to store your percentages\n",
    "    percentages = pd.DataFrame()\n",
    "\n",
    "    # Loop through the bool_columns \n",
    "    for col in bools:\n",
    "        # Compute the percentages of True (=1) occurrences in each cluster\n",
    "        percents = df.groupby(category,observed=True)[col].mean().mul(100).reset_index()\n",
    "        percents['Feature'] = col\n",
    "        percents.rename({col: 'Percentage'}, axis=1, inplace=True)\n",
    "\n",
    "        # Append the computed percentages to your dataframe\n",
    "        percentages = pd.concat([percentages, percents])\n",
    "\n",
    "    # Once your dataframe is ready, you can plot it using seaborn\n",
    "    plt.figure(figsize=(12, 8))\n",
    "    sns.barplot(x='Feature', y='Percentage', hue=category, data=percentages)\n",
    "    plt.gca().yaxis.set_major_formatter(mtick.PercentFormatter())\n",
    "    plt.xticks(rotation=90)\n",
    "    plt.title(f\"Percentage of 'True' Occurrences in Each Feature by {category}\")\n",
    "    plt.show()\n",
    "\n",
    "# Intended for single-select/categorical feature comparison\n",
    "# `x` should be a Panda Series\n",
    "# `y` should be a Panda Series\n",
    "def plot_count_and_percentage_heatmaps(x, y):\n",
    "    data = pd.DataFrame({x.name: x, y.name: y})\n",
    "\n",
    "    count_matrix = pd.crosstab(data[x.name], data[y.name])\n",
    "    \n",
    "    percent_matrix = count_matrix.div(count_matrix.sum(axis=1), axis=0) * 100\n",
    "\n",
    "    fig, ax = plt.subplots(1, 2, figsize=(12, 6))\n",
    "\n",
    "    # Heatmap for counts\n",
    "    sns.heatmap(count_matrix, annot=True, fmt=\"d\", cmap=\"YlGnBu\", cbar=True, ax=ax[0])\n",
    "    ax[0].set_title(\"Count Matrix of Categories\")\n",
    "    ax[0].set_xlabel(y.name)\n",
    "    ax[0].set_ylabel(x.name)\n",
    "\n",
    "    # Heatmap for percentages\n",
    "    sns.heatmap(percent_matrix, annot=True, fmt=\".2f\", cmap=\"YlGnBu\", cbar=True, ax=ax[1],vmin=0.0, vmax=100.0)\n",
    "    ax[1].set_title(\"Percentage Matrix of Categories\")\n",
    "    ax[1].set_xlabel(y.name)\n",
    "    ax[1].set_ylabel(x.name)\n",
    "\n",
    "    plt.tight_layout()\n",
    "    plt.show()\n",
    "\n",
    "# Intended for categorical feature comparison against several bool fields\n",
    "# `data` should be a Pandas Data Frame\n",
    "# `x` should be a string that refers to the categorical feature in `data`\n",
    "# `y` should be an array of strings that refer to the several bool features in `data`\n",
    "def plot_heatmap_of_bool_features_percent(data, x, y):\n",
    "    df_melted = data.melt(id_vars=x, value_vars=y, var_name=\"Bool\", value_name=\"True\")\n",
    "\n",
    "    df_pivot = df_melted.groupby([x,\"Bool\"]).sum().reset_index().pivot(index=x, columns=\"Bool\", values=\"True\")\n",
    "\n",
    "    total = data[x].value_counts()\n",
    "\n",
    "    df_pivot = df_pivot.join(total)\n",
    "    \n",
    "\n",
    "    df_pivot.loc[:, df_pivot.columns != \"count\"] = ((df_pivot.loc[:, df_pivot.columns != \"count\"].div(df_pivot[\"count\"], axis=0)) * 100).round(4)\n",
    "    \n",
    "    print(df_pivot[\"count\"])\n",
    "    df_pivot = df_pivot.drop(columns=[\"count\"])\n",
    "    \n",
    "    df_pivot = df_pivot.transpose()\n",
    "\n",
    "    sns.heatmap(df_pivot, annot=True, cmap=\"Blues\", fmt=\".2f\",vmin=0.0, vmax=100.0)\n",
    "\n",
    "# Intended for categorical feature comparison against several bool fields\n",
    "# `data` should be a Pandas Data Frame\n",
    "# `x` should be a string that refers to the categorical feature in `data`\n",
    "# `y` should be an array of strings that refer to the several bool features in `data`\n",
    "def plot_heatmap_of_bool_features_val_count(data, x, y):\n",
    "    df_melted = data.melt(id_vars=x, value_vars=y, var_name=\"Bool\", value_name=\"True\")\n",
    "\n",
    "    df_pivot = df_melted.groupby([x,\"Bool\"]).sum().reset_index().pivot(index=x, columns=\"Bool\", values=\"True\")\n",
    "\n",
    "    total = data[x].value_counts()\n",
    "\n",
    "    df_pivot = df_pivot.join(total)\n",
    "    \n",
    "    df_pivot.rename(columns={\"count\": \"UniqueMembersOfParticular\" + x}, inplace=True)\n",
    "    \n",
    "    df_pivot = df_pivot.transpose()\n",
    "    # Plot\n",
    "    sns.heatmap(df_pivot, annot=True, cmap=\"Blues\", fmt=\".2f\")\n",
    "\n",
    "# Used to reduce the number of categories in a feature by setting the value to \"Other\" for insufficient response quantity of specific catagories\n",
    "# `df` should be a Pandas Data Frame\n",
    "# `col_name` should be the string name of the column/feature you'd like to filter\n",
    "# `threshold` should be the minimum count needed to maintain the categorical variable \n",
    "\n",
    "# For example, if `Age` gets a bunch of responses between 18 and 24, and you get a few 40s and one 60. You can use this function to reduce the \n",
    "# different categorical variables to simply 18 through 24 and \"Other\"\n",
    "def filter_threshold(df, col_name, threshold):\n",
    "    df_copy = df.copy() \n",
    "    counts = df_copy[col_name].value_counts()\n",
    "    df_copy.loc[df_copy[col_name].isin(counts[counts < threshold].index), col_name] = \"Other\"\n",
    "    return df_copy"
   ]
  },
  {
   "cell_type": "markdown",
   "metadata": {},
   "source": [
    "#### Distribution of Features"
   ]
  },
  {
   "cell_type": "markdown",
   "metadata": {},
   "source": [
    "The following code is used to filter out feature responses that are underrepresented or minimal in survey data, thus preventing inaccurate conclusions that could arise from only looking at a small sample of a population. Most of features graphed below have at least two prominent catagories for which to perform data analysis, which is sufficient. This includes:\n",
    "\n",
    "- Gender\n",
    "- Age (within the range of 18 to 24)\n",
    "- Employment Status (at least for Part-Time and Unemployed)\n",
    "- Vision\n",
    "- Area of Study Catagories\n",
    "- Number of Board Games Owned\n",
    "- Frequency of Play\n",
    "- Style\n",
    "- Chess Rating\n",
    "\n",
    "However, a few fields did not get sufficient diverse responses to conclude anything, this includes:\n",
    "- WWU Status\n",
    "  - Nearly everyone who took this survey was a student\n",
    "- Religiosity\n",
    "  - Most people who filled out this survey were secular, and the largest minority religious group is simply too small to make any meaningful conclusions\n",
    "- Does person enjoys board games\n",
    "  - The overwhelming majority of people who filled out this survey liked playing board games making relationships between demographics hard to draw"
   ]
  },
  {
   "cell_type": "code",
   "execution_count": null,
   "metadata": {},
   "outputs": [],
   "source": [
    "for feature in single_select_features:\n",
    "    sns.countplot(x=feature, data=cleaned_df)\n",
    "    plt.xticks(rotation=90) \n",
    "    plt.show()"
   ]
  },
  {
   "cell_type": "markdown",
   "metadata": {},
   "source": [
    "#### Distribution of Features (cont'd)"
   ]
  },
  {
   "cell_type": "markdown",
   "metadata": {},
   "source": [
    "The following questions were multi-select and resulted in bool fields. Because of this, we need to display the data slightly differently: totalling all \"True\"/selected values from the related features.\n",
    "\n",
    "The multi-select questions were in regard to Race, Preferred Gameplay Elements, and Enjoyed Genres.\n",
    "\n",
    "Preferred Gameplay Elements and Enjoyed Genres got a sufficient distribution of responses, however, Race did not receive sufficiently diverse responses for analysis."
   ]
  },
  {
   "cell_type": "code",
   "execution_count": null,
   "metadata": {},
   "outputs": [],
   "source": [
    "true_counts = {}\n",
    "\n",
    "for col in race_bool_features:\n",
    "    true_counts[col] = cleaned_df[cleaned_df[col] == 1].shape[0]\n",
    "\n",
    "true_counts_series = pd.Series(true_counts)\n",
    "\n",
    "sns.barplot(true_counts_series)\n",
    "plt.xticks(rotation=90)\n",
    "plt.show()"
   ]
  },
  {
   "cell_type": "code",
   "execution_count": null,
   "metadata": {},
   "outputs": [],
   "source": [
    "true_counts = {}\n",
    "\n",
    "for col in element_bool_features:\n",
    "    true_counts[col] = cleaned_df[cleaned_df[col] == 1].shape[0]\n",
    "\n",
    "true_counts_series = pd.Series(true_counts)\n",
    "\n",
    "sns.barplot(true_counts_series)\n",
    "plt.xticks(rotation=90)\n",
    "plt.show()"
   ]
  },
  {
   "cell_type": "code",
   "execution_count": null,
   "metadata": {},
   "outputs": [],
   "source": [
    "true_counts = {}\n",
    "\n",
    "for col in genre_bool_features:\n",
    "    true_counts[col] = cleaned_df[cleaned_df[col] == 1].shape[0]\n",
    "\n",
    "true_counts_series = pd.Series(true_counts)\n",
    "\n",
    "sns.barplot(true_counts_series)\n",
    "plt.xticks(rotation=90)\n",
    "plt.show()"
   ]
  },
  {
   "cell_type": "markdown",
   "metadata": {},
   "source": [
    "#### (Random) Exploratory Analysis"
   ]
  },
  {
   "cell_type": "markdown",
   "metadata": {},
   "source": [
    "This section is dedicated to graphing random sufficient features against one another in hopes of uncovering hidden relationships."
   ]
  },
  {
   "cell_type": "code",
   "execution_count": null,
   "metadata": {},
   "outputs": [],
   "source": [
    "# There were many different responses for various types of non-binary gender identities, because of this, graphing the data becomes a bit muddled\n",
    "# This is solved by grouping the non-binary responses into an \"Other\" category\n",
    "genderForAnalysis_df = filter_threshold(cleaned_df,\"Gender\",25)\n",
    "genderForAnalysis_df[\"Gender\"].value_counts()"
   ]
  },
  {
   "cell_type": "code",
   "execution_count": null,
   "metadata": {},
   "outputs": [],
   "source": [
    "genderForAnalysis_df = genderForAnalysis_df[genderForAnalysis_df[\"Gender\"] != \"Other\"]"
   ]
  },
  {
   "cell_type": "code",
   "execution_count": null,
   "metadata": {},
   "outputs": [],
   "source": [
    "categories_against_category(genderForAnalysis_df,single_select_features,\"Gender\")"
   ]
  },
  {
   "cell_type": "code",
   "execution_count": null,
   "metadata": {},
   "outputs": [],
   "source": [
    "bools_against_category(genderForAnalysis_df,race_bool_features,\"Gender\")\n",
    "bools_against_category(genderForAnalysis_df,element_bool_features,\"Gender\")\n",
    "bools_against_category(genderForAnalysis_df,genre_bool_features,\"Gender\")"
   ]
  },
  {
   "cell_type": "markdown",
   "metadata": {},
   "source": [
    "`All Single Select` Against `ChessRating` Box Plot"
   ]
  },
  {
   "cell_type": "markdown",
   "metadata": {},
   "source": [
    "There does appear to be a substantial difference in ratings between Men and Women within in the data."
   ]
  },
  {
   "cell_type": "code",
   "execution_count": null,
   "metadata": {},
   "outputs": [],
   "source": [
    "genderForAnalysis_df[\"Gender\"].value_counts()"
   ]
  },
  {
   "cell_type": "code",
   "execution_count": null,
   "metadata": {},
   "outputs": [],
   "source": [
    "modified_df = cleaned_df.copy()\n",
    "modified_df = filter_threshold(modified_df,\"Gender\",30)\n",
    "modified_df = filter_threshold(modified_df,\"Age\",10)\n",
    "modified_df = filter_threshold(modified_df,\"EmploymentStatus\",30)\n",
    "modified_df[\"Religiosity\"] = modified_df[\"Religiosity\"].value_counts()\n",
    "modified_df = filter_threshold(modified_df,\"AOSCat\",30)\n",
    "\n",
    "\n",
    "features = single_select_features.copy()\n",
    "features.remove(\"WWUStatus\")\n",
    "for feature in features:\n",
    "    print(modified_df[feature].value_counts())\n",
    "    plt.figure(figsize=(20, 10))\n",
    "    sns.boxenplot(x=modified_df[feature],y=modified_df[\"ChessRating\"])\n",
    "    plt.ylim(reversed(plt.ylim()))\n",
    "    plt.xticks(rotation=90)\n",
    "    plt.show()"
   ]
  },
  {
   "cell_type": "code",
   "execution_count": null,
   "metadata": {},
   "outputs": [],
   "source": [
    "# Concatenate the boolean columns with the \"ChessRating\" column\n",
    "df_bool = cleaned_df[element_bool_features + ['ChessRating']]\n",
    "\n",
    "# Reshape your DataFrame so that each boolean feature and its corresponding \"ChessRating\" are in a single row\n",
    "df_melt = df_bool.melt(id_vars='ChessRating', var_name='Feature', value_name='Value')\n",
    "\n",
    "# Select only the rows where the category is marked as True\n",
    "df_melt = df_melt[df_melt['Value'] == 1]\n",
    "\n",
    "# Now you can plot everything on the same plot\n",
    "plt.figure(figsize=(20, 10))\n",
    "sns.boxenplot(x='Feature', y='ChessRating', data=df_melt)\n",
    "plt.ylim(reversed(plt.ylim()))\n",
    "plt.xticks(rotation=90)\n",
    "plt.title('Distribution of ChessRating for Each Feature')\n",
    "plt.show()"
   ]
  },
  {
   "cell_type": "code",
   "execution_count": null,
   "metadata": {},
   "outputs": [],
   "source": [
    "# Concatenate the boolean columns with the \"ChessRating\" column\n",
    "df_bool = cleaned_df[genre_bool_features + ['ChessRating']]\n",
    "\n",
    "# Reshape your DataFrame so that each boolean feature and its corresponding \"ChessRating\" are in a single row\n",
    "df_melt = df_bool.melt(id_vars='ChessRating', var_name='Feature', value_name='Value')\n",
    "\n",
    "# Select only the rows where the category is marked as True\n",
    "df_melt = df_melt[df_melt['Value'] == 1]\n",
    "\n",
    "# Now you can plot everything on the same plot\n",
    "plt.figure(figsize=(20, 10))\n",
    "sns.boxenplot(x='Feature', y='ChessRating', data=df_melt)\n",
    "plt.ylim(reversed(plt.ylim()))\n",
    "plt.xticks(rotation=90)\n",
    "plt.title('Distribution of ChessRating for Each Feature')\n",
    "plt.show()"
   ]
  },
  {
   "cell_type": "code",
   "execution_count": null,
   "metadata": {},
   "outputs": [],
   "source": [
    "modified_df = cleaned_df.copy()\n",
    "modified_df = filter_threshold(modified_df,\"Gender\",30)\n",
    "modified_df = filter_threshold(modified_df,\"Age\",10)\n",
    "modified_df = filter_threshold(modified_df,\"EmploymentStatus\",30)\n",
    "modified_df[\"Religiosity\"] = modified_df[\"Religiosity\"].map(religious_bucketing)\n",
    "modified_df = filter_threshold(modified_df,\"AOSCat\",30)\n",
    "\n",
    "features = single_select_features.copy()\n",
    "features.remove(\"WWUStatus\")\n",
    "for feature in features:\n",
    "    print(modified_df[feature].value_counts())\n",
    "    bools_against_category(modified_df,element_bool_features,feature)"
   ]
  },
  {
   "cell_type": "code",
   "execution_count": null,
   "metadata": {},
   "outputs": [],
   "source": [
    "modified_df = cleaned_df.copy()\n",
    "modified_df = filter_threshold(modified_df,\"Gender\",30)\n",
    "modified_df = filter_threshold(modified_df,\"Age\",10)\n",
    "modified_df = filter_threshold(modified_df,\"EmploymentStatus\",30)\n",
    "modified_df[\"Religiosity\"] = modified_df[\"Religiosity\"].map(religious_bucketing)\n",
    "modified_df = filter_threshold(modified_df,\"AOSCat\",30)\n",
    "\n",
    "features = single_select_features.copy()\n",
    "features.remove(\"WWUStatus\")\n",
    "for feature in features:\n",
    "    print(modified_df[feature].value_counts())\n",
    "    bools_against_category(modified_df,genre_bool_features,feature)"
   ]
  },
  {
   "cell_type": "code",
   "execution_count": null,
   "metadata": {},
   "outputs": [],
   "source": [
    "selected_rows = cleaned_df.copy()\n",
    "selected_rows[\"FrequencyOfPlay\"] = cleaned_df[\"FrequencyOfPlay\"].apply(lambda x: \"At Least Weekly\" if x in [\"Daily\",\"Several times a week\",\"Weekly\"] else x)\n",
    "\n",
    "selected_rows[\"FrequencyOfPlay\"] = pd.Categorical(selected_rows[\"FrequencyOfPlay\"],\n",
    "    categories=[\"At Least Weekly\",\"Several times a month\",\"Monthly\",\"Every few months\",\"Rarely/Seldom\",\"Never\",\"Prefer not to say\"],ordered=True)\n",
    "\n",
    "bools_against_category(selected_rows,element_bool_features,\"BoardGamesOwned\")\n",
    "bools_against_category(selected_rows,genre_bool_features,\"BoardGamesOwned\")"
   ]
  },
  {
   "cell_type": "code",
   "execution_count": null,
   "metadata": {},
   "outputs": [],
   "source": [
    "modified_df = cleaned_df.copy()\n",
    "modified_df = filter_threshold(modified_df,\"Style\",20)\n",
    "modified_df = modified_df[modified_df[\"Style\"] != \"Other\"]\n",
    "\n",
    "\n",
    "print(modified_df[\"Style\"].value_counts())\n",
    "bools_against_category(modified_df,element_bool_features,\"Style\")\n",
    "bools_against_category(modified_df,genre_bool_features,\"Style\")"
   ]
  },
  {
   "cell_type": "code",
   "execution_count": null,
   "metadata": {},
   "outputs": [],
   "source": [
    "modified_df = cleaned_df.copy()\n",
    "modified_df = filter_threshold(modified_df,\"AOSCat\",20)\n",
    "\n",
    "print(modified_df[\"AOSCat\"].value_counts())\n",
    "\n",
    "features = single_select_features.copy()\n",
    "features.remove(\"WWUStatus\")\n",
    "categories_against_category(modified_df,features,\"AOSCat\")"
   ]
  },
  {
   "cell_type": "code",
   "execution_count": null,
   "metadata": {},
   "outputs": [],
   "source": [
    "bools_against_category(modified_df,element_bool_features,\"AOSCat\")\n",
    "bools_against_category(modified_df,genre_bool_features,\"AOSCat\")"
   ]
  },
  {
   "cell_type": "markdown",
   "metadata": {},
   "source": [
    "#### Machine Learning Clustering for Exploratory Analysis"
   ]
  },
  {
   "cell_type": "code",
   "execution_count": 66,
   "metadata": {},
   "outputs": [
    {
     "name": "stdout",
     "output_type": "stream",
     "text": [
      "Fitting for 2 clusters\n",
      "score: 0.11863466543320195\n",
      "\n",
      "Fitting for 3 clusters\n",
      "score: 0.05927103971485946\n",
      "\n",
      "Fitting for 4 clusters\n",
      "score: 0.053179399224910384\n",
      "\n",
      "Fitting for 5 clusters\n",
      "score: 0.05032617609897155\n",
      "\n",
      "Fitting for 6 clusters\n",
      "score: 0.05323918691389219\n",
      "\n",
      "Fitting for 7 clusters\n",
      "score: 0.05310292323114009\n",
      "\n",
      "Fitting for 8 clusters\n",
      "score: 0.04638618458724722\n",
      "\n",
      "Fitting for 9 clusters\n",
      "score: 0.047447314603493905\n",
      "\n"
     ]
    }
   ],
   "source": [
    "from sklearn.compose import ColumnTransformer\n",
    "from sklearn.linear_model import LogisticRegression\n",
    "from sklearn.neighbors import KNeighborsClassifier\n",
    "from sklearn.ensemble import RandomForestClassifier\n",
    "from sklearn.model_selection import train_test_split\n",
    "from sklearn.pipeline import make_pipeline\n",
    "from sklearn.preprocessing import OneHotEncoder, OrdinalEncoder\n",
    "\n",
    "from sklearn.calibration import LabelEncoder\n",
    "from sklearn.discriminant_analysis import StandardScaler\n",
    "from sklearn.ensemble import RandomForestRegressor\n",
    "from sklearn.metrics import confusion_matrix, accuracy_score, make_scorer, r2_score\n",
    "from sklearn.model_selection import cross_val_score\n",
    "from sklearn.tree import DecisionTreeClassifier\n",
    "from sklearn.dummy import DummyClassifier\n",
    "\n",
    "\n",
    "from sklearn import metrics\n",
    "from sklearn.cluster import KMeans\n",
    "\n",
    "data = cleaned_df.copy()\n",
    "X = data.drop(columns=[\"EnjoyedBoardGames\",\"AOS\"])\n",
    "\n",
    "onehot_and_ordinal_transform = ColumnTransformer(\n",
    "    transformers=[\n",
    "        (\"onehot\", OneHotEncoder(), [\"WWUStatus\",\"EmploymentStatus\",\"Vision\",\"Religiosity\",\"EnjoysBoardGames\",\"Gender\",\"Style\",\"AOSCat\"]),\n",
    "        (\"ordinal\", make_pipeline(OrdinalEncoder(categories=[[\"Prefer not to say\", \"0\", \"1 or 2\", \"2 to 5\", \"5 to 10\", \"10 to 20\", \"More than 20\"],\n",
    "                                               [\"Daily\", \"Several times a week\", \"Weekly\", \"Several times a month\", \"Monthly\", \"Every few months\", \"Rarely/Seldom\", \"Never\", \"Prefer not to say\"],\n",
    "                                               [\"Unknown\", \"1\", \"2\", \"3\", \"4\", \"5\", \"6\", \"7\", \"8\", \"9\", \"10\"]]),StandardScaler()),\n",
    "                                                \n",
    "                                               [\"BoardGamesOwned\",\n",
    "                                                \"FrequencyOfPlay\",\n",
    "                                                \"ChessRating\"]),\n",
    "        (\"scale numeric types\", StandardScaler(), [\"Age\"])                      \n",
    "    ], remainder=\"passthrough\"\n",
    "    )\n",
    "\n",
    "\n",
    "X_transformed = onehot_and_ordinal_transform.fit_transform(X)\n",
    "\n",
    "\n",
    "\n",
    "for i in range(2,10):\n",
    "    k_means_model = KMeans(n_clusters=i, random_state=5, n_init=10)\n",
    "    clusters = k_means_model.fit_predict(X_transformed)\n",
    "    score = metrics.silhouette_score(X_transformed, clusters)\n",
    "    print(f'Fitting for {i} clusters')\n",
    "    print(f'score: {score}')\n",
    "    print()\n"
   ]
  },
  {
   "cell_type": "code",
   "execution_count": 67,
   "metadata": {},
   "outputs": [
    {
     "name": "stdout",
     "output_type": "stream",
     "text": [
      "Fitting for 2 clusters\n",
      "score: 0.11863466543320195\n",
      "\n"
     ]
    }
   ],
   "source": [
    "k_means_model = KMeans(n_clusters=2, random_state=5, n_init=10)\n",
    "clusters = k_means_model.fit_predict(X_transformed)\n",
    "score = metrics.silhouette_score(X_transformed, clusters)\n",
    "print(f'Fitting for {2} clusters')\n",
    "print(f'score: {score}')\n",
    "print()"
   ]
  },
  {
   "cell_type": "code",
   "execution_count": null,
   "metadata": {},
   "outputs": [],
   "source": [
    "X[\"Cluster\"] = k_means_model.fit_predict(X_transformed)\n",
    "X"
   ]
  },
  {
   "cell_type": "code",
   "execution_count": null,
   "metadata": {},
   "outputs": [],
   "source": [
    "X[\"Cluster\"].value_counts()"
   ]
  },
  {
   "cell_type": "code",
   "execution_count": null,
   "metadata": {},
   "outputs": [],
   "source": [
    "X[\"Cluster\"].value_counts(normalize=True)"
   ]
  },
  {
   "cell_type": "code",
   "execution_count": null,
   "metadata": {},
   "outputs": [],
   "source": [
    "categories_against_category(X,single_select_features,\"Cluster\")"
   ]
  },
  {
   "cell_type": "code",
   "execution_count": null,
   "metadata": {},
   "outputs": [],
   "source": [
    "bools_against_category(X,race_bool_features,\"Cluster\")\n",
    "bools_against_category(X,element_bool_features,\"Cluster\")\n",
    "bools_against_category(X,genre_bool_features,\"Cluster\")"
   ]
  },
  {
   "cell_type": "code",
   "execution_count": null,
   "metadata": {},
   "outputs": [],
   "source": [
    "from sklearn.cluster import SpectralClustering\n",
    "\n",
    "data = cleaned_df.copy()\n",
    "X = data.drop(columns=[\"EnjoyedBoardGames\",\"AOS\"])\n",
    "\n",
    "onehot_and_ordinal_transform = ColumnTransformer(\n",
    "    transformers=[\n",
    "        (\"onehot\", OneHotEncoder(), [\"WWUStatus\",\"EmploymentStatus\",\"Vision\",\"Religiosity\",\"EnjoysBoardGames\",\"Gender\",\"Style\",\"AOSCat\"]),\n",
    "        (\"ordinal\", make_pipeline(OrdinalEncoder(categories=[[\"Prefer not to say\", \"0\", \"1 or 2\", \"2 to 5\", \"5 to 10\", \"10 to 20\", \"More than 20\"],\n",
    "                                               [\"Daily\", \"Several times a week\", \"Weekly\", \"Several times a month\", \"Monthly\", \"Every few months\", \"Rarely/Seldom\", \"Never\", \"Prefer not to say\"],\n",
    "                                               [\"Unknown\", \"1\", \"2\", \"3\", \"4\", \"5\", \"6\", \"7\", \"8\", \"9\", \"10\"]]),StandardScaler()),\n",
    "                                                \n",
    "                                               [\"BoardGamesOwned\",\n",
    "                                                \"FrequencyOfPlay\",\n",
    "                                                \"ChessRating\"]),\n",
    "        (\"scale numeric types\", StandardScaler(), [\"Age\"])                      \n",
    "    ], remainder=\"passthrough\"\n",
    "    )\n",
    "\n",
    "\n",
    "X_transformed = onehot_and_ordinal_transform.fit_transform(X)\n",
    "\n",
    "\n",
    "\n",
    "for i in range(2,10):\n",
    "    k_means_model = SpectralClustering(n_clusters=i, random_state=5, n_init=10)\n",
    "    clusters = k_means_model.fit_predict(X_transformed)\n",
    "    score = metrics.silhouette_score(X_transformed, clusters)\n",
    "    print(f'Fitting for {i} clusters')\n",
    "    print(f'score: {score}')\n",
    "    print()\n"
   ]
  },
  {
   "cell_type": "markdown",
   "metadata": {},
   "source": [
    "### Machine Learning Predictive Model"
   ]
  },
  {
   "cell_type": "markdown",
   "metadata": {},
   "source": [
    "#### First Attempt at Building a Machine Learning Model, Predict Gender from Board Game Preferences"
   ]
  },
  {
   "cell_type": "code",
   "execution_count": null,
   "metadata": {},
   "outputs": [],
   "source": [
    "# load dataset\n",
    "data = cleaned_df.copy()\n",
    "data = data[[\"Gender\",\"BoardGamesOwned\",\"FrequencyOfPlay\",\"Style\",\"ChessRating\",\n",
    "     \n",
    "     \"Party/Low-StakesIsPreferredElement\",\"SocialDeduction/HiddenRoleIsPreferredElement\",\"TriviaIsPreferredElement\",\n",
    "\n",
    "     \"AnimalsIsEnjoyedGenre\",\"CardIsEnjoyedGenre\",\"FantasyIsEnjoyedGenre\",\"HorrorIsEnjoyedGenre\",\"LuckIsEnjoyedGenre\",\n",
    "     \"PuzzleIsEnjoyedGenre\",\"Role-PlayingIsEnjoyedGenre\",\"RollandMoveIsEnjoyedGenre\",\"ScienceFictionIsEnjoyedGenre\",\n",
    "     \"SocialDeduction/HiddenRoleIsEnjoyedGenre\",\"SportsIsEnjoyedGenre\",\"TriviaIsEnjoyedGenre\",\"WarIsEnjoyedGenre\",\n",
    "     \"WorldWarIIIsEnjoyedGenre\",\"ZombiesIsEnjoyedGenre\"]]\n",
    "\n",
    "# data = data.drop(columns=[\"WWUStatus\",\"EmploymentStatus\",\"Vision\",\"Religiosity\",\"AOS\",\"EnjoysBoardGames\",\n",
    "#                           \"EnjoyedBoardGames\"])\n",
    "\n",
    "\n",
    "\n",
    "data = filter_threshold(data,\"Gender\",20)\n",
    "data = data[data[\"Gender\"] != \"Other\"]\n",
    "# data = filter_threshold(data,\"AOSCat\",15)\n",
    "data = filter_threshold(data,\"Style\",15)\n"
   ]
  },
  {
   "cell_type": "code",
   "execution_count": null,
   "metadata": {},
   "outputs": [],
   "source": [
    "X, y = data.drop(columns=[\"Gender\"]), data[\"Gender\"]\n",
    "\n",
    "X_train, X_test, y_train, y_test = train_test_split(X, y, train_size=0.5, test_size=0.5, stratify=y, random_state=40)\n",
    "\n",
    "\n",
    "onehot_and_ordinal_transform = ColumnTransformer(\n",
    "    transformers=[\n",
    "        (\"onehot\", OneHotEncoder(), [\"Style\"]),\n",
    "        (\"ordinal\", make_pipeline(OrdinalEncoder(categories=[[\"Prefer not to say\", \"0\", \"1 or 2\", \"2 to 5\", \"5 to 10\", \"10 to 20\", \"More than 20\"],\n",
    "                                               [\"Daily\", \"Several times a week\", \"Weekly\", \"Several times a month\", \"Monthly\", \"Every few months\", \"Rarely/Seldom\", \"Never\", \"Prefer not to say\"],\n",
    "                                               [\"Unknown\", \"1\", \"2\", \"3\", \"4\", \"5\", \"6\", \"7\", \"8\", \"9\", \"10\"]]),StandardScaler()),\n",
    "                                                \n",
    "                                               [\"BoardGamesOwned\",\n",
    "                                                \"FrequencyOfPlay\",\n",
    "                                                \"ChessRating\"])                         \n",
    "    ], remainder=\"passthrough\"\n",
    ")\n",
    "\n",
    "\n",
    "logistic_pipe = make_pipeline(\n",
    "    onehot_and_ordinal_transform,\n",
    "    LogisticRegression(max_iter=10000)\n",
    ")\n",
    "\n",
    "k_neighbors_classifier_pipe = make_pipeline(\n",
    "    onehot_and_ordinal_transform,\n",
    "    KNeighborsClassifier()\n",
    ")\n",
    "\n",
    "decision_tree_classifier_pipe = make_pipeline(\n",
    "    onehot_and_ordinal_transform,\n",
    "    DecisionTreeClassifier()\n",
    ")\n",
    "\n",
    "random_forest_classifier_pipe = make_pipeline(\n",
    "    onehot_and_ordinal_transform,\n",
    "    RandomForestClassifier(random_state=40)\n",
    ")\n",
    "\n",
    "dummy_classifier = DummyClassifier(strategy='most_frequent')\n",
    "\n",
    "\n",
    "current_pipe = logistic_pipe\n",
    "\n",
    "print(f\"Model Cross Val Scores: {cross_val_score(current_pipe,X_train,y_train,cv=4,scoring=make_scorer(accuracy_score))}\")\n",
    "print(f\"Dummy Cross Val Scores: {cross_val_score(dummy_classifier,X_train,y_train,cv=4,scoring=make_scorer(accuracy_score))}\")"
   ]
  },
  {
   "cell_type": "code",
   "execution_count": null,
   "metadata": {},
   "outputs": [],
   "source": [
    "# Should be used when certain model performs well\n",
    "\n",
    "current_pipe.fit(X_train,y_train)\n",
    "conf_matrix = confusion_matrix(y_test, current_pipe.predict(X_test),labels=[\"Man\",\"Woman\",\"Other\"])\n",
    "\n",
    "print(conf_matrix)\n",
    "\n",
    "print(f\"Model Accuracy Score: {accuracy_score(current_pipe.predict(X_test),y_test)}\")\n",
    "\n",
    "\n",
    "\n",
    "dummy_classifier.fit(X_train, y_train)\n",
    "y_pred = dummy_classifier.predict(X_test)\n",
    "\n",
    "print(f\"Dummy Accuracy Score: {accuracy_score(y_test, y_pred)}\")"
   ]
  },
  {
   "cell_type": "markdown",
   "metadata": {},
   "source": [
    "#### Second Attempt at Machine Learning Model, Predicting Different Board Game Stats Based on Demographics"
   ]
  },
  {
   "cell_type": "code",
   "execution_count": null,
   "metadata": {},
   "outputs": [],
   "source": [
    "# load dataset\n",
    "data = cleaned_df.copy()\n",
    "data = data[['Gender', 'Age', \n",
    "            'AOSCat',\n",
    "       \n",
    "            \"BoardGamesOwned\",\"FrequencyOfPlay\",\"Style\",\"ChessRating\",]]\n",
    "\n",
    "# data = data.drop(columns=[\"WWUStatus\",\"EmploymentStatus\",\"Vision\",\"Religiosity\",\"AOS\",\"EnjoysBoardGames\",\n",
    "#                           \"EnjoyedBoardGames\"])\n",
    "\n",
    "\n",
    "\n",
    "data = filter_threshold(data,\"Gender\",20)\n",
    "# data = data[data[\"Gender\"] != \"Other\"]\n",
    "#filter_threshold(data,\"Age\",10)[\"Age\"].value_counts()\n",
    "# data = filter_threshold\n",
    "data = filter_threshold(data,\"AOSCat\",15)\n",
    "data = filter_threshold(data,\"Style\",15)\n",
    "\n",
    "data[\"FrequencyOfPlay\"] = data[\"FrequencyOfPlay\"].apply(lambda x: \"At Least Weekly\" if x in [\"Daily\",\"Several times a week\",\"Weekly\"] else x)\n",
    "\n",
    "\n",
    "data[\"FrequencyOfPlay\"] = pd.Categorical(data[\"FrequencyOfPlay\"],\n",
    "    categories=[\"At Least Weekly\",\"Several times a month\",\"Monthly\",\"Every few months\",\"Rarely/Seldom\",\"Never\",\"Prefer not to say\"],ordered=True)\n",
    "\n",
    "data[\"ChessRating\"] = data[\"ChessRating\"].replace('Unknown', np.nan).astype(float)"
   ]
  },
  {
   "cell_type": "code",
   "execution_count": null,
   "metadata": {},
   "outputs": [],
   "source": [
    "data = data.dropna(subset=['ChessRating'])"
   ]
  },
  {
   "cell_type": "code",
   "execution_count": null,
   "metadata": {},
   "outputs": [],
   "source": [
    "len(data)"
   ]
  },
  {
   "cell_type": "code",
   "execution_count": null,
   "metadata": {},
   "outputs": [],
   "source": [
    "X, y = data.drop(columns=[\"BoardGamesOwned\",\"FrequencyOfPlay\",\"Style\",\"ChessRating\"]), data[\"ChessRating\"]\n",
    "\n",
    "X_train, X_test, y_train, y_test = train_test_split(X, y, train_size=0.5, test_size=0.5, stratify=y, random_state=40)\n",
    "\n",
    "\n",
    "onehot_and_ordinal_transform = ColumnTransformer(\n",
    "    transformers=[\n",
    "        (\"onehot\", OneHotEncoder(handle_unknown=\"ignore\"), [\"Gender\",\"AOSCat\", ]),\n",
    "        # (\"ordinal\", make_pipeline(OrdinalEncoder(categories=[[\"Prefer not to say\", \"0\", \"1 or 2\", \"2 to 5\", \"5 to 10\", \"10 to 20\", \"More than 20\"],\n",
    "        #                                        [\"Daily\", \"Several times a week\", \"Weekly\", \"Several times a month\", \"Monthly\", \"Every few months\", \"Rarely/Seldom\", \"Never\", \"Prefer not to say\"],\n",
    "        #                                        [\"Unknown\", \"1\", \"2\", \"3\", \"4\", \"5\", \"6\", \"7\", \"8\", \"9\", \"10\"]]),StandardScaler()),\n",
    "                                                \n",
    "        #                                        [\"BoardGamesOwned\",\n",
    "        #                                         \"FrequencyOfPlay\",\n",
    "        #                                         \"ChessRating\"])                         \n",
    "    ], remainder=\"passthrough\"\n",
    ")\n",
    "\n",
    "\n",
    "logistic_pipe = make_pipeline(\n",
    "    onehot_and_ordinal_transform,\n",
    "    LogisticRegression(max_iter=10000)\n",
    ")\n",
    "\n",
    "\n",
    "dummy_classifier = DummyClassifier(strategy='uniform')\n",
    "\n",
    "\n",
    "current_pipe = logistic_pipe\n",
    "\n",
    "print(f\"Model Cross Val Scores: {cross_val_score(current_pipe,X_train,y_train,cv=4)}\")\n",
    "print(f\"Dummy Cross Val Scores: {cross_val_score(dummy_classifier,X_train,y_train,cv=4)}\")"
   ]
  },
  {
   "cell_type": "code",
   "execution_count": null,
   "metadata": {},
   "outputs": [],
   "source": [
    "current_pipe.fit(X_train,y_train)\n",
    "\n",
    "current_pipe.score(X_train,y_train)"
   ]
  },
  {
   "cell_type": "code",
   "execution_count": null,
   "metadata": {},
   "outputs": [],
   "source": [
    "current_pipe.fit(X_train,y_train)\n",
    "conf_matrix = confusion_matrix(y_test, current_pipe.predict(X_test))\n",
    "\n",
    "print(conf_matrix)\n",
    "\n",
    "print(f\"Model Accuracy Score: {accuracy_score(current_pipe.predict(X_test),y_test)}\")\n",
    "\n",
    "\n",
    "\n",
    "dummy_classifier.fit(X_train, y_train)\n",
    "y_pred = dummy_classifier.predict(X_test)\n",
    "\n",
    "print(f\"Dummy Accuracy Score: {accuracy_score(y_test, y_pred)}\")"
   ]
  },
  {
   "cell_type": "code",
   "execution_count": null,
   "metadata": {},
   "outputs": [],
   "source": [
    "single_select_features"
   ]
  }
 ],
 "metadata": {
  "kernelspec": {
   "display_name": "Python 3",
   "language": "python",
   "name": "python3"
  },
  "language_info": {
   "codemirror_mode": {
    "name": "ipython",
    "version": 3
   },
   "file_extension": ".py",
   "mimetype": "text/x-python",
   "name": "python",
   "nbconvert_exporter": "python",
   "pygments_lexer": "ipython3",
   "version": "3.11.5"
  }
 },
 "nbformat": 4,
 "nbformat_minor": 2
}
