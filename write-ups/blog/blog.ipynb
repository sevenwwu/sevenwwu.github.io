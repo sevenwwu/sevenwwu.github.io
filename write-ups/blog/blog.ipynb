{
 "cells": [
  {
   "cell_type": "markdown",
   "metadata": {},
   "source": [
    "# Board Game Behavior: An Analysis of Demographics and Gameplay Preferences\n",
    "\n",
    "## Project Overview\n",
    "\n",
    "Our project seeks to uncover interesting patterns among demographics and gameplay preferences at Western Washington University. \n",
    "\n",
    "## Dataset \n",
    "\n",
    "## Data Curation\n",
    "\n",
    "## Exploratory Data Analysis\n",
    "\n",
    "### Question 1\n",
    "\n",
    "### Question 2\n",
    "\n",
    "### Question 3\n",
    "\n",
    "### Question ...\n",
    "\n",
    "### Conclusions\n",
    "\n",
    "\n",
    "## Predictive Machine Learning\n",
    "\n",
    "### Machine learning problem\n",
    "\n",
    "#### Machine learning problem\n",
    "\n",
    "##### Inputs and outputs $x$ and $y$\n",
    "\n",
    "##### Loss function\n",
    "\n",
    "##### Metrics\n",
    "\n",
    "#### Models\n",
    "\n",
    "##### Baselines\n",
    "\n",
    "##### Prospective algorithms\n",
    "\n",
    "#### Data splits\n",
    "\n",
    "### Results and analysis \n",
    "\n",
    "### Concluding remarks"
   ]
  }
 ],
 "metadata": {
  "language_info": {
   "name": "python"
  }
 },
 "nbformat": 4,
 "nbformat_minor": 2
}
