{
 "cells": [
  {
   "cell_type": "markdown",
   "metadata": {},
   "source": [
    "# Board Game Behavior: An Analysis of Demographics and Gameplay Preferences\n",
    "\n",
    "## Project Overview\n",
    "\n",
    "Our project seeks to uncover interesting patterns among demographics and gameplay preferences at Western Washington University. Because we choose to go with survey, we constructed a curated set of survey questions to answer possible research questions. This enables a finer control over our raw data set at the cost of a smaller data set and possible bias. \n",
    "\n",
    "## Dataset \n",
    "\n",
    "Our survey consists of 16 questions which translate to the following features. For demographic info: Student/Faculty Status, Gender, Identity, Age,Race, Employment, Status, Corrective Vision, Religiosity, and Area of Study. For Board Game info: Enjoyment of Board Games, # of Board Games Owned, Frequency of Board Game Play, Style of Player, Desirable Gameplay Elements, Enjoyed Board Games, Scale Rating of Chess, and Desirable Board Game Genres. This survey was handed out to random students at WWU and received 243 responses. This translates to 243 rows \n",
    "\n",
    "## Data Curation\n",
    "\n",
    "The data curation process consisted of downloading, processing, and cleaning the data. Microsoft Forms did the data collection and survey hosting. Down Drop Metadata Rename Questions to Concise Field Names Transform Multi-Select Questions Manual Bucketing of Area of Study Freeform Responses Shorten Categorical Strings for Easier Analysis Assign Order to some Categorical Variables\n",
    "\n",
    "## Exploratory Data Analysis\n",
    "\n",
    "### Question 1\n",
    "\n",
    "### Question 2\n",
    "\n",
    "### Question 3\n",
    "\n",
    "### Question ...\n",
    "\n",
    "### Conclusions\n",
    "\n",
    "\n",
    "## Predictive Machine Learning\n",
    "\n",
    "### Machine learning problem\n",
    "\n",
    "#### Machine learning problem\n",
    "\n",
    "##### Inputs and outputs $x$ and $y$\n",
    "\n",
    "##### Loss function\n",
    "\n",
    "##### Metrics\n",
    "\n",
    "#### Models\n",
    "\n",
    "##### Baselines\n",
    "\n",
    "##### Prospective algorithms\n",
    "\n",
    "#### Data splits\n",
    "\n",
    "### Results and analysis \n",
    "\n",
    "### Concluding remarks"
   ]
  }
 ],
 "metadata": {
  "language_info": {
   "name": "python"
  }
 },
 "nbformat": 4,
 "nbformat_minor": 2
}
